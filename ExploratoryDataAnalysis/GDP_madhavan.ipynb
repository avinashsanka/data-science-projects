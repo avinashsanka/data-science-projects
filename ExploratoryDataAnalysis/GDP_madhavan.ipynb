{
 "cells": [
  {
   "cell_type": "markdown",
   "metadata": {},
   "source": [
    "# NITI Aayog GDP Assignment "
   ]
  },
  {
   "cell_type": "markdown",
   "metadata": {},
   "source": [
    "#### `Importing necessary python libraries` "
   ]
  },
  {
   "cell_type": "code",
   "execution_count": 1,
   "metadata": {},
   "outputs": [],
   "source": [
    "import numpy as np\n",
    "import pandas as pd\n",
    "import matplotlib.pyplot as plt\n",
    "import seaborn as sns"
   ]
  },
  {
   "cell_type": "markdown",
   "metadata": {},
   "source": [
    "#### `Data I-A`:  This dataset consists of the GSDP (Gross State Domestic Product) data for the states and union territories."
   ]
  },
  {
   "cell_type": "code",
   "execution_count": 2,
   "metadata": {},
   "outputs": [],
   "source": [
    "Data_1A = pd.read_csv('/Users/madhavan/Desktop/new /EDA - programming in python/GDP assignment/ab40c054-5031-4376-b52e-9813e776f65e 3.32.54 PM.csv')"
   ]
  },
  {
   "cell_type": "code",
   "execution_count": 3,
   "metadata": {},
   "outputs": [],
   "source": [
    "Data_1A.columns = Data_1A.columns.str.strip()\n",
    "Data_1A.columns = Data_1A.columns.str.replace(' ', '_')"
   ]
  },
  {
   "cell_type": "code",
   "execution_count": 4,
   "metadata": {},
   "outputs": [
    {
     "data": {
      "text/html": [
       "<div>\n",
       "<style scoped>\n",
       "    .dataframe tbody tr th:only-of-type {\n",
       "        vertical-align: middle;\n",
       "    }\n",
       "\n",
       "    .dataframe tbody tr th {\n",
       "        vertical-align: top;\n",
       "    }\n",
       "\n",
       "    .dataframe thead th {\n",
       "        text-align: right;\n",
       "    }\n",
       "</style>\n",
       "<table border=\"1\" class=\"dataframe\">\n",
       "  <thead>\n",
       "    <tr style=\"text-align: right;\">\n",
       "      <th></th>\n",
       "      <th>Items__Description</th>\n",
       "      <th>Duration</th>\n",
       "      <th>Andhra_Pradesh</th>\n",
       "      <th>Arunachal_Pradesh</th>\n",
       "      <th>Assam</th>\n",
       "      <th>Bihar</th>\n",
       "      <th>Chhattisgarh</th>\n",
       "      <th>Goa</th>\n",
       "      <th>Gujarat</th>\n",
       "      <th>Haryana</th>\n",
       "      <th>...</th>\n",
       "      <th>Telangana</th>\n",
       "      <th>Tripura</th>\n",
       "      <th>Uttar_Pradesh</th>\n",
       "      <th>Uttarakhand</th>\n",
       "      <th>West_Bengal1</th>\n",
       "      <th>Andaman_&amp;_Nicobar_Islands</th>\n",
       "      <th>Chandigarh</th>\n",
       "      <th>Delhi</th>\n",
       "      <th>Puducherry</th>\n",
       "      <th>All_India_GDP</th>\n",
       "    </tr>\n",
       "  </thead>\n",
       "  <tbody>\n",
       "    <tr>\n",
       "      <th>0</th>\n",
       "      <td>GSDP - CURRENT PRICES (` in Crore)</td>\n",
       "      <td>2011-12</td>\n",
       "      <td>379402.0</td>\n",
       "      <td>11063.0</td>\n",
       "      <td>143175.0</td>\n",
       "      <td>247144.0</td>\n",
       "      <td>158074.0</td>\n",
       "      <td>42367.0</td>\n",
       "      <td>615606.0</td>\n",
       "      <td>297539.0</td>\n",
       "      <td>...</td>\n",
       "      <td>359433.0</td>\n",
       "      <td>19208.0</td>\n",
       "      <td>724049.0</td>\n",
       "      <td>115523.0</td>\n",
       "      <td>NaN</td>\n",
       "      <td>3979.0</td>\n",
       "      <td>18768.0</td>\n",
       "      <td>343767.0</td>\n",
       "      <td>16818.0</td>\n",
       "      <td>8736039.0</td>\n",
       "    </tr>\n",
       "    <tr>\n",
       "      <th>1</th>\n",
       "      <td>GSDP - CURRENT PRICES (` in Crore)</td>\n",
       "      <td>2012-13</td>\n",
       "      <td>411404.0</td>\n",
       "      <td>12547.0</td>\n",
       "      <td>156864.0</td>\n",
       "      <td>282368.0</td>\n",
       "      <td>177511.0</td>\n",
       "      <td>38120.0</td>\n",
       "      <td>724495.0</td>\n",
       "      <td>347032.0</td>\n",
       "      <td>...</td>\n",
       "      <td>401493.0</td>\n",
       "      <td>21663.0</td>\n",
       "      <td>822903.0</td>\n",
       "      <td>131835.0</td>\n",
       "      <td>NaN</td>\n",
       "      <td>4421.0</td>\n",
       "      <td>21609.0</td>\n",
       "      <td>391238.0</td>\n",
       "      <td>18875.0</td>\n",
       "      <td>9946636.0</td>\n",
       "    </tr>\n",
       "    <tr>\n",
       "      <th>2</th>\n",
       "      <td>GSDP - CURRENT PRICES (` in Crore)</td>\n",
       "      <td>2013-14</td>\n",
       "      <td>464272.0</td>\n",
       "      <td>14602.0</td>\n",
       "      <td>177745.0</td>\n",
       "      <td>317101.0</td>\n",
       "      <td>206690.0</td>\n",
       "      <td>35921.0</td>\n",
       "      <td>807623.0</td>\n",
       "      <td>400662.0</td>\n",
       "      <td>...</td>\n",
       "      <td>452186.0</td>\n",
       "      <td>25593.0</td>\n",
       "      <td>944146.0</td>\n",
       "      <td>149817.0</td>\n",
       "      <td>NaN</td>\n",
       "      <td>5159.0</td>\n",
       "      <td>24787.0</td>\n",
       "      <td>443783.0</td>\n",
       "      <td>21870.0</td>\n",
       "      <td>11236635.0</td>\n",
       "    </tr>\n",
       "    <tr>\n",
       "      <th>3</th>\n",
       "      <td>GSDP - CURRENT PRICES (` in Crore)</td>\n",
       "      <td>2014-15</td>\n",
       "      <td>526468.0</td>\n",
       "      <td>16761.0</td>\n",
       "      <td>198098.0</td>\n",
       "      <td>373920.0</td>\n",
       "      <td>234982.0</td>\n",
       "      <td>40633.0</td>\n",
       "      <td>895027.0</td>\n",
       "      <td>437462.0</td>\n",
       "      <td>...</td>\n",
       "      <td>511178.0</td>\n",
       "      <td>29667.0</td>\n",
       "      <td>1043371.0</td>\n",
       "      <td>161985.0</td>\n",
       "      <td>NaN</td>\n",
       "      <td>5721.0</td>\n",
       "      <td>27844.0</td>\n",
       "      <td>492424.0</td>\n",
       "      <td>24089.0</td>\n",
       "      <td>12433749.0</td>\n",
       "    </tr>\n",
       "    <tr>\n",
       "      <th>4</th>\n",
       "      <td>GSDP - CURRENT PRICES (` in Crore)</td>\n",
       "      <td>2015-16</td>\n",
       "      <td>609934.0</td>\n",
       "      <td>18784.0</td>\n",
       "      <td>224234.0</td>\n",
       "      <td>413503.0</td>\n",
       "      <td>260776.0</td>\n",
       "      <td>45002.0</td>\n",
       "      <td>994316.0</td>\n",
       "      <td>485184.0</td>\n",
       "      <td>...</td>\n",
       "      <td>575631.0</td>\n",
       "      <td>NaN</td>\n",
       "      <td>1153795.0</td>\n",
       "      <td>184091.0</td>\n",
       "      <td>NaN</td>\n",
       "      <td>NaN</td>\n",
       "      <td>30304.0</td>\n",
       "      <td>551963.0</td>\n",
       "      <td>26533.0</td>\n",
       "      <td>13675331.0</td>\n",
       "    </tr>\n",
       "  </tbody>\n",
       "</table>\n",
       "<p>5 rows × 36 columns</p>\n",
       "</div>"
      ],
      "text/plain": [
       "                   Items__Description Duration  Andhra_Pradesh  \\\n",
       "0  GSDP - CURRENT PRICES (` in Crore)  2011-12        379402.0   \n",
       "1  GSDP - CURRENT PRICES (` in Crore)  2012-13        411404.0   \n",
       "2  GSDP - CURRENT PRICES (` in Crore)  2013-14        464272.0   \n",
       "3  GSDP - CURRENT PRICES (` in Crore)  2014-15        526468.0   \n",
       "4  GSDP - CURRENT PRICES (` in Crore)  2015-16        609934.0   \n",
       "\n",
       "   Arunachal_Pradesh     Assam     Bihar  Chhattisgarh      Goa   Gujarat  \\\n",
       "0            11063.0  143175.0  247144.0      158074.0  42367.0  615606.0   \n",
       "1            12547.0  156864.0  282368.0      177511.0  38120.0  724495.0   \n",
       "2            14602.0  177745.0  317101.0      206690.0  35921.0  807623.0   \n",
       "3            16761.0  198098.0  373920.0      234982.0  40633.0  895027.0   \n",
       "4            18784.0  224234.0  413503.0      260776.0  45002.0  994316.0   \n",
       "\n",
       "    Haryana  ...  Telangana  Tripura  Uttar_Pradesh  Uttarakhand  \\\n",
       "0  297539.0  ...   359433.0  19208.0       724049.0     115523.0   \n",
       "1  347032.0  ...   401493.0  21663.0       822903.0     131835.0   \n",
       "2  400662.0  ...   452186.0  25593.0       944146.0     149817.0   \n",
       "3  437462.0  ...   511178.0  29667.0      1043371.0     161985.0   \n",
       "4  485184.0  ...   575631.0      NaN      1153795.0     184091.0   \n",
       "\n",
       "   West_Bengal1  Andaman_&_Nicobar_Islands  Chandigarh     Delhi  Puducherry  \\\n",
       "0           NaN                     3979.0     18768.0  343767.0     16818.0   \n",
       "1           NaN                     4421.0     21609.0  391238.0     18875.0   \n",
       "2           NaN                     5159.0     24787.0  443783.0     21870.0   \n",
       "3           NaN                     5721.0     27844.0  492424.0     24089.0   \n",
       "4           NaN                        NaN     30304.0  551963.0     26533.0   \n",
       "\n",
       "   All_India_GDP  \n",
       "0      8736039.0  \n",
       "1      9946636.0  \n",
       "2     11236635.0  \n",
       "3     12433749.0  \n",
       "4     13675331.0  \n",
       "\n",
       "[5 rows x 36 columns]"
      ]
     },
     "execution_count": 4,
     "metadata": {},
     "output_type": "execute_result"
    }
   ],
   "source": [
    "Data_1A.head()"
   ]
  },
  {
   "cell_type": "code",
   "execution_count": 5,
   "metadata": {},
   "outputs": [
    {
     "name": "stdout",
     "output_type": "stream",
     "text": [
      "<class 'pandas.core.frame.DataFrame'>\n",
      "RangeIndex: 11 entries, 0 to 10\n",
      "Data columns (total 36 columns):\n",
      "Items__Description           11 non-null object\n",
      "Duration                     11 non-null object\n",
      "Andhra_Pradesh               11 non-null float64\n",
      "Arunachal_Pradesh            9 non-null float64\n",
      "Assam                        9 non-null float64\n",
      "Bihar                        9 non-null float64\n",
      "Chhattisgarh                 11 non-null float64\n",
      "Goa                          9 non-null float64\n",
      "Gujarat                      9 non-null float64\n",
      "Haryana                      11 non-null float64\n",
      "Himachal_Pradesh             7 non-null float64\n",
      "Jammu_&_Kashmir              9 non-null float64\n",
      "Jharkhand                    9 non-null float64\n",
      "Karnataka                    9 non-null float64\n",
      "Kerala                       9 non-null float64\n",
      "Madhya_Pradesh               11 non-null float64\n",
      "Maharashtra                  7 non-null float64\n",
      "Manipur                      7 non-null float64\n",
      "Meghalaya                    11 non-null float64\n",
      "Mizoram                      7 non-null float64\n",
      "Nagaland                     7 non-null float64\n",
      "Odisha                       11 non-null float64\n",
      "Punjab                       7 non-null float64\n",
      "Rajasthan                    7 non-null float64\n",
      "Sikkim                       9 non-null float64\n",
      "Tamil_Nadu                   11 non-null float64\n",
      "Telangana                    11 non-null float64\n",
      "Tripura                      7 non-null float64\n",
      "Uttar_Pradesh                9 non-null float64\n",
      "Uttarakhand                  9 non-null float64\n",
      "West_Bengal1                 0 non-null float64\n",
      "Andaman_&_Nicobar_Islands    7 non-null float64\n",
      "Chandigarh                   9 non-null float64\n",
      "Delhi                        11 non-null float64\n",
      "Puducherry                   11 non-null float64\n",
      "All_India_GDP                11 non-null float64\n",
      "dtypes: float64(34), object(2)\n",
      "memory usage: 3.2+ KB\n"
     ]
    }
   ],
   "source": [
    "# inspecting the columns of the dataframe\n",
    "Data_1A.info()"
   ]
  },
  {
   "cell_type": "markdown",
   "metadata": {},
   "source": [
    "##### Checking if any of the column contains all null values"
   ]
  },
  {
   "cell_type": "code",
   "execution_count": 6,
   "metadata": {},
   "outputs": [
    {
     "data": {
      "text/plain": [
       "Items__Description           False\n",
       "Duration                     False\n",
       "Andhra_Pradesh               False\n",
       "Arunachal_Pradesh            False\n",
       "Assam                        False\n",
       "Bihar                        False\n",
       "Chhattisgarh                 False\n",
       "Goa                          False\n",
       "Gujarat                      False\n",
       "Haryana                      False\n",
       "Himachal_Pradesh             False\n",
       "Jammu_&_Kashmir              False\n",
       "Jharkhand                    False\n",
       "Karnataka                    False\n",
       "Kerala                       False\n",
       "Madhya_Pradesh               False\n",
       "Maharashtra                  False\n",
       "Manipur                      False\n",
       "Meghalaya                    False\n",
       "Mizoram                      False\n",
       "Nagaland                     False\n",
       "Odisha                       False\n",
       "Punjab                       False\n",
       "Rajasthan                    False\n",
       "Sikkim                       False\n",
       "Tamil_Nadu                   False\n",
       "Telangana                    False\n",
       "Tripura                      False\n",
       "Uttar_Pradesh                False\n",
       "Uttarakhand                  False\n",
       "West_Bengal1                  True\n",
       "Andaman_&_Nicobar_Islands    False\n",
       "Chandigarh                   False\n",
       "Delhi                        False\n",
       "Puducherry                   False\n",
       "All_India_GDP                False\n",
       "dtype: bool"
      ]
     },
     "execution_count": 6,
     "metadata": {},
     "output_type": "execute_result"
    }
   ],
   "source": [
    "Data_1A.isnull().all()"
   ]
  },
  {
   "cell_type": "markdown",
   "metadata": {},
   "source": [
    "##### As `West Bengal1` column contains all null values there is no way it will contribute to the analysis. So `lets drop it`"
   ]
  },
  {
   "cell_type": "code",
   "execution_count": 7,
   "metadata": {},
   "outputs": [],
   "source": [
    "Data_1A = Data_1A.dropna(axis=1, how='all')"
   ]
  },
  {
   "cell_type": "markdown",
   "metadata": {},
   "source": [
    "#### Percentage of null values in each column"
   ]
  },
  {
   "cell_type": "code",
   "execution_count": 8,
   "metadata": {},
   "outputs": [
    {
     "data": {
      "text/plain": [
       "Items__Description            0.00\n",
       "Duration                      0.00\n",
       "Andhra_Pradesh                0.00\n",
       "Arunachal_Pradesh            18.18\n",
       "Assam                        18.18\n",
       "Bihar                        18.18\n",
       "Chhattisgarh                  0.00\n",
       "Goa                          18.18\n",
       "Gujarat                      18.18\n",
       "Haryana                       0.00\n",
       "Himachal_Pradesh             36.36\n",
       "Jammu_&_Kashmir              18.18\n",
       "Jharkhand                    18.18\n",
       "Karnataka                    18.18\n",
       "Kerala                       18.18\n",
       "Madhya_Pradesh                0.00\n",
       "Maharashtra                  36.36\n",
       "Manipur                      36.36\n",
       "Meghalaya                     0.00\n",
       "Mizoram                      36.36\n",
       "Nagaland                     36.36\n",
       "Odisha                        0.00\n",
       "Punjab                       36.36\n",
       "Rajasthan                    36.36\n",
       "Sikkim                       18.18\n",
       "Tamil_Nadu                    0.00\n",
       "Telangana                     0.00\n",
       "Tripura                      36.36\n",
       "Uttar_Pradesh                18.18\n",
       "Uttarakhand                  18.18\n",
       "Andaman_&_Nicobar_Islands    36.36\n",
       "Chandigarh                   18.18\n",
       "Delhi                         0.00\n",
       "Puducherry                    0.00\n",
       "All_India_GDP                 0.00\n",
       "dtype: float64"
      ]
     },
     "execution_count": 8,
     "metadata": {},
     "output_type": "execute_result"
    }
   ],
   "source": [
    "round(100*(Data_1A.isnull().sum()/len(Data_1A.index)), 2)"
   ]
  },
  {
   "cell_type": "markdown",
   "metadata": {},
   "source": [
    "#### As there are equal number of missing elements in each column (i.e 36.36 and 18.18  lets check if the belong to `the same row` "
   ]
  },
  {
   "cell_type": "code",
   "execution_count": 9,
   "metadata": {},
   "outputs": [
    {
     "data": {
      "text/plain": [
       "0      0.00\n",
       "1      0.00\n",
       "2      0.00\n",
       "3      0.00\n",
       "4     25.71\n",
       "5     62.86\n",
       "6      0.00\n",
       "7      0.00\n",
       "8      0.00\n",
       "9     25.71\n",
       "10    62.86\n",
       "dtype: float64"
      ]
     },
     "execution_count": 9,
     "metadata": {},
     "output_type": "execute_result"
    }
   ],
   "source": [
    "round(100*(Data_1A.isnull().sum(axis=1)/len(Data_1A.columns)),2)"
   ]
  },
  {
   "cell_type": "markdown",
   "metadata": {},
   "source": [
    "### We can see that 62.86% entries are missing in row 5 and 10 respectively which belong to `2016-2017`"
   ]
  },
  {
   "cell_type": "code",
   "execution_count": 10,
   "metadata": {},
   "outputs": [
    {
     "data": {
      "text/plain": [
       "0      0\n",
       "1      0\n",
       "2      0\n",
       "3      0\n",
       "4      9\n",
       "5     22\n",
       "6      0\n",
       "7      0\n",
       "8      0\n",
       "9      9\n",
       "10    22\n",
       "dtype: int64"
      ]
     },
     "execution_count": 10,
     "metadata": {},
     "output_type": "execute_result"
    }
   ],
   "source": [
    "Data_1A.isnull().sum(axis=1)"
   ]
  },
  {
   "cell_type": "code",
   "execution_count": 11,
   "metadata": {},
   "outputs": [
    {
     "data": {
      "text/html": [
       "<div>\n",
       "<style scoped>\n",
       "    .dataframe tbody tr th:only-of-type {\n",
       "        vertical-align: middle;\n",
       "    }\n",
       "\n",
       "    .dataframe tbody tr th {\n",
       "        vertical-align: top;\n",
       "    }\n",
       "\n",
       "    .dataframe thead th {\n",
       "        text-align: right;\n",
       "    }\n",
       "</style>\n",
       "<table border=\"1\" class=\"dataframe\">\n",
       "  <thead>\n",
       "    <tr style=\"text-align: right;\">\n",
       "      <th></th>\n",
       "      <th>Andhra_Pradesh</th>\n",
       "      <th>Arunachal_Pradesh</th>\n",
       "      <th>Assam</th>\n",
       "      <th>Bihar</th>\n",
       "      <th>Chhattisgarh</th>\n",
       "      <th>Goa</th>\n",
       "      <th>Gujarat</th>\n",
       "      <th>Haryana</th>\n",
       "      <th>Himachal_Pradesh</th>\n",
       "      <th>Jammu_&amp;_Kashmir</th>\n",
       "      <th>...</th>\n",
       "      <th>Tamil_Nadu</th>\n",
       "      <th>Telangana</th>\n",
       "      <th>Tripura</th>\n",
       "      <th>Uttar_Pradesh</th>\n",
       "      <th>Uttarakhand</th>\n",
       "      <th>Andaman_&amp;_Nicobar_Islands</th>\n",
       "      <th>Chandigarh</th>\n",
       "      <th>Delhi</th>\n",
       "      <th>Puducherry</th>\n",
       "      <th>All_India_GDP</th>\n",
       "    </tr>\n",
       "  </thead>\n",
       "  <tbody>\n",
       "    <tr>\n",
       "      <th>count</th>\n",
       "      <td>5.000000</td>\n",
       "      <td>4.000000</td>\n",
       "      <td>4.000000</td>\n",
       "      <td>4.000000</td>\n",
       "      <td>5.000000</td>\n",
       "      <td>4.000000</td>\n",
       "      <td>4.00000</td>\n",
       "      <td>5.000000</td>\n",
       "      <td>3.000000</td>\n",
       "      <td>4.000000</td>\n",
       "      <td>...</td>\n",
       "      <td>5.000000</td>\n",
       "      <td>5.000000</td>\n",
       "      <td>3.000000</td>\n",
       "      <td>4.000000</td>\n",
       "      <td>4.000000</td>\n",
       "      <td>3.000000</td>\n",
       "      <td>4.000000</td>\n",
       "      <td>5.000000</td>\n",
       "      <td>5.000000</td>\n",
       "      <td>5.000000</td>\n",
       "    </tr>\n",
       "    <tr>\n",
       "      <th>mean</th>\n",
       "      <td>13.036000</td>\n",
       "      <td>14.162500</td>\n",
       "      <td>11.877500</td>\n",
       "      <td>13.765000</td>\n",
       "      <td>12.934000</td>\n",
       "      <td>2.020000</td>\n",
       "      <td>12.76750</td>\n",
       "      <td>12.998000</td>\n",
       "      <td>12.816667</td>\n",
       "      <td>11.002500</td>\n",
       "      <td>...</td>\n",
       "      <td>12.250000</td>\n",
       "      <td>12.732000</td>\n",
       "      <td>15.613333</td>\n",
       "      <td>12.367500</td>\n",
       "      <td>12.382500</td>\n",
       "      <td>12.900000</td>\n",
       "      <td>12.755000</td>\n",
       "      <td>12.610000</td>\n",
       "      <td>11.958000</td>\n",
       "      <td>11.798000</td>\n",
       "    </tr>\n",
       "    <tr>\n",
       "      <th>std</th>\n",
       "      <td>2.824266</td>\n",
       "      <td>1.848952</td>\n",
       "      <td>1.763356</td>\n",
       "      <td>3.147809</td>\n",
       "      <td>2.229682</td>\n",
       "      <td>11.619934</td>\n",
       "      <td>3.29248</td>\n",
       "      <td>3.089186</td>\n",
       "      <td>2.333160</td>\n",
       "      <td>5.427162</td>\n",
       "      <td>...</td>\n",
       "      <td>1.516031</td>\n",
       "      <td>0.719597</td>\n",
       "      <td>2.693127</td>\n",
       "      <td>2.150324</td>\n",
       "      <td>2.850478</td>\n",
       "      <td>3.275775</td>\n",
       "      <td>2.887796</td>\n",
       "      <td>1.132232</td>\n",
       "      <td>2.359188</td>\n",
       "      <td>1.603861</td>\n",
       "    </tr>\n",
       "    <tr>\n",
       "      <th>min</th>\n",
       "      <td>8.430000</td>\n",
       "      <td>12.070000</td>\n",
       "      <td>9.560000</td>\n",
       "      <td>10.590000</td>\n",
       "      <td>10.980000</td>\n",
       "      <td>-10.020000</td>\n",
       "      <td>10.82000</td>\n",
       "      <td>9.180000</td>\n",
       "      <td>10.140000</td>\n",
       "      <td>4.700000</td>\n",
       "      <td>...</td>\n",
       "      <td>10.400000</td>\n",
       "      <td>11.700000</td>\n",
       "      <td>12.780000</td>\n",
       "      <td>10.510000</td>\n",
       "      <td>8.120000</td>\n",
       "      <td>10.890000</td>\n",
       "      <td>8.840000</td>\n",
       "      <td>10.960000</td>\n",
       "      <td>10.140000</td>\n",
       "      <td>9.990000</td>\n",
       "    </tr>\n",
       "    <tr>\n",
       "      <th>25%</th>\n",
       "      <td>12.850000</td>\n",
       "      <td>13.075000</td>\n",
       "      <td>10.977500</td>\n",
       "      <td>11.872500</td>\n",
       "      <td>11.260000</td>\n",
       "      <td>-6.832500</td>\n",
       "      <td>11.02250</td>\n",
       "      <td>10.910000</td>\n",
       "      <td>12.015000</td>\n",
       "      <td>8.742500</td>\n",
       "      <td>...</td>\n",
       "      <td>10.990000</td>\n",
       "      <td>12.610000</td>\n",
       "      <td>14.350000</td>\n",
       "      <td>10.562500</td>\n",
       "      <td>12.260000</td>\n",
       "      <td>11.010000</td>\n",
       "      <td>11.457500</td>\n",
       "      <td>12.090000</td>\n",
       "      <td>10.150000</td>\n",
       "      <td>10.650000</td>\n",
       "    </tr>\n",
       "    <tr>\n",
       "      <th>50%</th>\n",
       "      <td>13.400000</td>\n",
       "      <td>14.100000</td>\n",
       "      <td>12.320000</td>\n",
       "      <td>13.275000</td>\n",
       "      <td>12.300000</td>\n",
       "      <td>2.490000</td>\n",
       "      <td>11.28000</td>\n",
       "      <td>12.820000</td>\n",
       "      <td>13.890000</td>\n",
       "      <td>10.700000</td>\n",
       "      <td>...</td>\n",
       "      <td>12.510000</td>\n",
       "      <td>12.630000</td>\n",
       "      <td>15.920000</td>\n",
       "      <td>12.115000</td>\n",
       "      <td>13.645000</td>\n",
       "      <td>11.130000</td>\n",
       "      <td>13.520000</td>\n",
       "      <td>12.760000</td>\n",
       "      <td>11.400000</td>\n",
       "      <td>11.520000</td>\n",
       "    </tr>\n",
       "    <tr>\n",
       "      <th>75%</th>\n",
       "      <td>14.650000</td>\n",
       "      <td>15.187500</td>\n",
       "      <td>13.220000</td>\n",
       "      <td>15.167500</td>\n",
       "      <td>13.690000</td>\n",
       "      <td>11.342500</td>\n",
       "      <td>13.02500</td>\n",
       "      <td>15.450000</td>\n",
       "      <td>14.155000</td>\n",
       "      <td>12.960000</td>\n",
       "      <td>...</td>\n",
       "      <td>13.510000</td>\n",
       "      <td>13.050000</td>\n",
       "      <td>17.030000</td>\n",
       "      <td>13.920000</td>\n",
       "      <td>13.767500</td>\n",
       "      <td>13.905000</td>\n",
       "      <td>14.817500</td>\n",
       "      <td>13.430000</td>\n",
       "      <td>12.230000</td>\n",
       "      <td>12.970000</td>\n",
       "    </tr>\n",
       "    <tr>\n",
       "      <th>max</th>\n",
       "      <td>15.850000</td>\n",
       "      <td>16.380000</td>\n",
       "      <td>13.310000</td>\n",
       "      <td>17.920000</td>\n",
       "      <td>16.440000</td>\n",
       "      <td>13.120000</td>\n",
       "      <td>17.69000</td>\n",
       "      <td>16.630000</td>\n",
       "      <td>14.420000</td>\n",
       "      <td>17.910000</td>\n",
       "      <td>...</td>\n",
       "      <td>13.840000</td>\n",
       "      <td>13.670000</td>\n",
       "      <td>18.140000</td>\n",
       "      <td>14.730000</td>\n",
       "      <td>14.120000</td>\n",
       "      <td>16.680000</td>\n",
       "      <td>15.140000</td>\n",
       "      <td>13.810000</td>\n",
       "      <td>15.870000</td>\n",
       "      <td>13.860000</td>\n",
       "    </tr>\n",
       "  </tbody>\n",
       "</table>\n",
       "<p>8 rows × 33 columns</p>\n",
       "</div>"
      ],
      "text/plain": [
       "       Andhra_Pradesh  Arunachal_Pradesh      Assam      Bihar  Chhattisgarh  \\\n",
       "count        5.000000           4.000000   4.000000   4.000000      5.000000   \n",
       "mean        13.036000          14.162500  11.877500  13.765000     12.934000   \n",
       "std          2.824266           1.848952   1.763356   3.147809      2.229682   \n",
       "min          8.430000          12.070000   9.560000  10.590000     10.980000   \n",
       "25%         12.850000          13.075000  10.977500  11.872500     11.260000   \n",
       "50%         13.400000          14.100000  12.320000  13.275000     12.300000   \n",
       "75%         14.650000          15.187500  13.220000  15.167500     13.690000   \n",
       "max         15.850000          16.380000  13.310000  17.920000     16.440000   \n",
       "\n",
       "             Goa   Gujarat    Haryana  Himachal_Pradesh  Jammu_&_Kashmir  ...  \\\n",
       "count   4.000000   4.00000   5.000000          3.000000         4.000000  ...   \n",
       "mean    2.020000  12.76750  12.998000         12.816667        11.002500  ...   \n",
       "std    11.619934   3.29248   3.089186          2.333160         5.427162  ...   \n",
       "min   -10.020000  10.82000   9.180000         10.140000         4.700000  ...   \n",
       "25%    -6.832500  11.02250  10.910000         12.015000         8.742500  ...   \n",
       "50%     2.490000  11.28000  12.820000         13.890000        10.700000  ...   \n",
       "75%    11.342500  13.02500  15.450000         14.155000        12.960000  ...   \n",
       "max    13.120000  17.69000  16.630000         14.420000        17.910000  ...   \n",
       "\n",
       "       Tamil_Nadu  Telangana    Tripura  Uttar_Pradesh  Uttarakhand  \\\n",
       "count    5.000000   5.000000   3.000000       4.000000     4.000000   \n",
       "mean    12.250000  12.732000  15.613333      12.367500    12.382500   \n",
       "std      1.516031   0.719597   2.693127       2.150324     2.850478   \n",
       "min     10.400000  11.700000  12.780000      10.510000     8.120000   \n",
       "25%     10.990000  12.610000  14.350000      10.562500    12.260000   \n",
       "50%     12.510000  12.630000  15.920000      12.115000    13.645000   \n",
       "75%     13.510000  13.050000  17.030000      13.920000    13.767500   \n",
       "max     13.840000  13.670000  18.140000      14.730000    14.120000   \n",
       "\n",
       "       Andaman_&_Nicobar_Islands  Chandigarh      Delhi  Puducherry  \\\n",
       "count                   3.000000    4.000000   5.000000    5.000000   \n",
       "mean                   12.900000   12.755000  12.610000   11.958000   \n",
       "std                     3.275775    2.887796   1.132232    2.359188   \n",
       "min                    10.890000    8.840000  10.960000   10.140000   \n",
       "25%                    11.010000   11.457500  12.090000   10.150000   \n",
       "50%                    11.130000   13.520000  12.760000   11.400000   \n",
       "75%                    13.905000   14.817500  13.430000   12.230000   \n",
       "max                    16.680000   15.140000  13.810000   15.870000   \n",
       "\n",
       "       All_India_GDP  \n",
       "count       5.000000  \n",
       "mean       11.798000  \n",
       "std         1.603861  \n",
       "min         9.990000  \n",
       "25%        10.650000  \n",
       "50%        11.520000  \n",
       "75%        12.970000  \n",
       "max        13.860000  \n",
       "\n",
       "[8 rows x 33 columns]"
      ]
     },
     "execution_count": 11,
     "metadata": {},
     "output_type": "execute_result"
    }
   ],
   "source": [
    "Data_1A.iloc[6: ].describe()\n"
   ]
  },
  {
   "cell_type": "code",
   "execution_count": 12,
   "metadata": {},
   "outputs": [
    {
     "data": {
      "text/html": [
       "<div>\n",
       "<style scoped>\n",
       "    .dataframe tbody tr th:only-of-type {\n",
       "        vertical-align: middle;\n",
       "    }\n",
       "\n",
       "    .dataframe tbody tr th {\n",
       "        vertical-align: top;\n",
       "    }\n",
       "\n",
       "    .dataframe thead th {\n",
       "        text-align: right;\n",
       "    }\n",
       "</style>\n",
       "<table border=\"1\" class=\"dataframe\">\n",
       "  <thead>\n",
       "    <tr style=\"text-align: right;\">\n",
       "      <th></th>\n",
       "      <th>Items__Description</th>\n",
       "      <th>Duration</th>\n",
       "      <th>Andhra_Pradesh</th>\n",
       "      <th>Arunachal_Pradesh</th>\n",
       "      <th>Assam</th>\n",
       "      <th>Bihar</th>\n",
       "      <th>Chhattisgarh</th>\n",
       "      <th>Goa</th>\n",
       "      <th>Gujarat</th>\n",
       "      <th>Haryana</th>\n",
       "      <th>...</th>\n",
       "      <th>Tamil_Nadu</th>\n",
       "      <th>Telangana</th>\n",
       "      <th>Tripura</th>\n",
       "      <th>Uttar_Pradesh</th>\n",
       "      <th>Uttarakhand</th>\n",
       "      <th>Andaman_&amp;_Nicobar_Islands</th>\n",
       "      <th>Chandigarh</th>\n",
       "      <th>Delhi</th>\n",
       "      <th>Puducherry</th>\n",
       "      <th>All_India_GDP</th>\n",
       "    </tr>\n",
       "  </thead>\n",
       "  <tbody>\n",
       "    <tr>\n",
       "      <th>6</th>\n",
       "      <td>(% Growth over previous year)</td>\n",
       "      <td>2012-13</td>\n",
       "      <td>8.43</td>\n",
       "      <td>13.41</td>\n",
       "      <td>9.56</td>\n",
       "      <td>14.25</td>\n",
       "      <td>12.30</td>\n",
       "      <td>-10.02</td>\n",
       "      <td>17.69</td>\n",
       "      <td>16.63</td>\n",
       "      <td>...</td>\n",
       "      <td>13.84</td>\n",
       "      <td>11.70</td>\n",
       "      <td>12.78</td>\n",
       "      <td>13.65</td>\n",
       "      <td>14.12</td>\n",
       "      <td>11.13</td>\n",
       "      <td>15.14</td>\n",
       "      <td>13.81</td>\n",
       "      <td>12.23</td>\n",
       "      <td>13.86</td>\n",
       "    </tr>\n",
       "    <tr>\n",
       "      <th>7</th>\n",
       "      <td>(% Growth over previous year)</td>\n",
       "      <td>2013-14</td>\n",
       "      <td>12.85</td>\n",
       "      <td>16.38</td>\n",
       "      <td>13.31</td>\n",
       "      <td>12.30</td>\n",
       "      <td>16.44</td>\n",
       "      <td>-5.77</td>\n",
       "      <td>11.47</td>\n",
       "      <td>15.45</td>\n",
       "      <td>...</td>\n",
       "      <td>13.51</td>\n",
       "      <td>12.63</td>\n",
       "      <td>18.14</td>\n",
       "      <td>14.73</td>\n",
       "      <td>13.64</td>\n",
       "      <td>16.68</td>\n",
       "      <td>14.71</td>\n",
       "      <td>13.43</td>\n",
       "      <td>15.87</td>\n",
       "      <td>12.97</td>\n",
       "    </tr>\n",
       "    <tr>\n",
       "      <th>8</th>\n",
       "      <td>(% Growth over previous year)</td>\n",
       "      <td>2014-15</td>\n",
       "      <td>13.40</td>\n",
       "      <td>14.79</td>\n",
       "      <td>11.45</td>\n",
       "      <td>17.92</td>\n",
       "      <td>13.69</td>\n",
       "      <td>13.12</td>\n",
       "      <td>10.82</td>\n",
       "      <td>9.18</td>\n",
       "      <td>...</td>\n",
       "      <td>12.51</td>\n",
       "      <td>13.05</td>\n",
       "      <td>15.92</td>\n",
       "      <td>10.51</td>\n",
       "      <td>8.12</td>\n",
       "      <td>10.89</td>\n",
       "      <td>12.33</td>\n",
       "      <td>10.96</td>\n",
       "      <td>10.14</td>\n",
       "      <td>10.65</td>\n",
       "    </tr>\n",
       "    <tr>\n",
       "      <th>9</th>\n",
       "      <td>(% Growth over previous year)</td>\n",
       "      <td>2015-16</td>\n",
       "      <td>15.85</td>\n",
       "      <td>12.07</td>\n",
       "      <td>13.19</td>\n",
       "      <td>10.59</td>\n",
       "      <td>10.98</td>\n",
       "      <td>10.75</td>\n",
       "      <td>11.09</td>\n",
       "      <td>10.91</td>\n",
       "      <td>...</td>\n",
       "      <td>10.99</td>\n",
       "      <td>12.61</td>\n",
       "      <td>NaN</td>\n",
       "      <td>10.58</td>\n",
       "      <td>13.65</td>\n",
       "      <td>NaN</td>\n",
       "      <td>8.84</td>\n",
       "      <td>12.09</td>\n",
       "      <td>10.15</td>\n",
       "      <td>9.99</td>\n",
       "    </tr>\n",
       "    <tr>\n",
       "      <th>10</th>\n",
       "      <td>(% Growth over previous year)</td>\n",
       "      <td>2016-17</td>\n",
       "      <td>14.65</td>\n",
       "      <td>NaN</td>\n",
       "      <td>NaN</td>\n",
       "      <td>NaN</td>\n",
       "      <td>11.26</td>\n",
       "      <td>NaN</td>\n",
       "      <td>NaN</td>\n",
       "      <td>12.82</td>\n",
       "      <td>...</td>\n",
       "      <td>10.40</td>\n",
       "      <td>13.67</td>\n",
       "      <td>NaN</td>\n",
       "      <td>NaN</td>\n",
       "      <td>NaN</td>\n",
       "      <td>NaN</td>\n",
       "      <td>NaN</td>\n",
       "      <td>12.76</td>\n",
       "      <td>11.40</td>\n",
       "      <td>11.52</td>\n",
       "    </tr>\n",
       "  </tbody>\n",
       "</table>\n",
       "<p>5 rows × 35 columns</p>\n",
       "</div>"
      ],
      "text/plain": [
       "               Items__Description Duration  Andhra_Pradesh  Arunachal_Pradesh  \\\n",
       "6   (% Growth over previous year)  2012-13            8.43              13.41   \n",
       "7   (% Growth over previous year)  2013-14           12.85              16.38   \n",
       "8   (% Growth over previous year)  2014-15           13.40              14.79   \n",
       "9   (% Growth over previous year)  2015-16           15.85              12.07   \n",
       "10  (% Growth over previous year)  2016-17           14.65                NaN   \n",
       "\n",
       "    Assam  Bihar  Chhattisgarh    Goa  Gujarat  Haryana  ...  Tamil_Nadu  \\\n",
       "6    9.56  14.25         12.30 -10.02    17.69    16.63  ...       13.84   \n",
       "7   13.31  12.30         16.44  -5.77    11.47    15.45  ...       13.51   \n",
       "8   11.45  17.92         13.69  13.12    10.82     9.18  ...       12.51   \n",
       "9   13.19  10.59         10.98  10.75    11.09    10.91  ...       10.99   \n",
       "10    NaN    NaN         11.26    NaN      NaN    12.82  ...       10.40   \n",
       "\n",
       "    Telangana  Tripura  Uttar_Pradesh  Uttarakhand  Andaman_&_Nicobar_Islands  \\\n",
       "6       11.70    12.78          13.65        14.12                      11.13   \n",
       "7       12.63    18.14          14.73        13.64                      16.68   \n",
       "8       13.05    15.92          10.51         8.12                      10.89   \n",
       "9       12.61      NaN          10.58        13.65                        NaN   \n",
       "10      13.67      NaN            NaN          NaN                        NaN   \n",
       "\n",
       "    Chandigarh  Delhi  Puducherry  All_India_GDP  \n",
       "6        15.14  13.81       12.23          13.86  \n",
       "7        14.71  13.43       15.87          12.97  \n",
       "8        12.33  10.96       10.14          10.65  \n",
       "9         8.84  12.09       10.15           9.99  \n",
       "10         NaN  12.76       11.40          11.52  \n",
       "\n",
       "[5 rows x 35 columns]"
      ]
     },
     "execution_count": 12,
     "metadata": {},
     "output_type": "execute_result"
    }
   ],
   "source": [
    "Data_1A.iloc[6:]"
   ]
  },
  {
   "cell_type": "markdown",
   "metadata": {},
   "source": [
    "### As huge data (more than 50% ) are missing in  `2016-17` and though we can `impute data for few states as Standard Deviation is less ,we can also see that over the years for many states the growth rates are following an increasing or decreasing trend. 2016-17 being last year in the analysis if we impute data with average values we will be introducing bias.More ever there are only 6 financial years data taken into account.So lets choose to drop data for the year '2016-17' as there are many missing values.This also helps us to standardize analysis when we compare between two states\n",
    "### It is also to be noted that 2015-16 is considered as the base year for analysis as most of the data is available for the aforementioned period.\n",
    "### KEEPING THAT ASSUMPTION TRUE  JAMMU AND KASHMIR IS CONSIDERED AS STATE \n"
   ]
  },
  {
   "cell_type": "code",
   "execution_count": 13,
   "metadata": {},
   "outputs": [],
   "source": [
    "Data_1A = Data_1A[Data_1A.isnull().sum(axis=1) < 22]"
   ]
  },
  {
   "cell_type": "code",
   "execution_count": 14,
   "metadata": {},
   "outputs": [],
   "source": [
    "unionterr = ['Delhi','Puducherry','Andaman_&_Nicobar_Islands','Chandigarh','Dadra_and_Nagar_Haveli','Daman_and_Diu','Lakshadweep']"
   ]
  },
  {
   "cell_type": "code",
   "execution_count": 15,
   "metadata": {},
   "outputs": [],
   "source": [
    "#Removing union terr as they come under the Central Govt\n",
    "Data_1A = Data_1A[Data_1A.columns.difference(unionterr)]"
   ]
  },
  {
   "cell_type": "code",
   "execution_count": 16,
   "metadata": {},
   "outputs": [],
   "source": [
    "#Only considering the rows having growth rates over previous year\n",
    "growthrates = Data_1A.loc[Data_1A['Items__Description'] =='(% Growth over previous year)']"
   ]
  },
  {
   "cell_type": "code",
   "execution_count": 17,
   "metadata": {},
   "outputs": [
    {
     "data": {
      "text/html": [
       "<div>\n",
       "<style scoped>\n",
       "    .dataframe tbody tr th:only-of-type {\n",
       "        vertical-align: middle;\n",
       "    }\n",
       "\n",
       "    .dataframe tbody tr th {\n",
       "        vertical-align: top;\n",
       "    }\n",
       "\n",
       "    .dataframe thead th {\n",
       "        text-align: right;\n",
       "    }\n",
       "</style>\n",
       "<table border=\"1\" class=\"dataframe\">\n",
       "  <thead>\n",
       "    <tr style=\"text-align: right;\">\n",
       "      <th></th>\n",
       "      <th>All_India_GDP</th>\n",
       "      <th>Andhra_Pradesh</th>\n",
       "      <th>Arunachal_Pradesh</th>\n",
       "      <th>Assam</th>\n",
       "      <th>Bihar</th>\n",
       "      <th>Chhattisgarh</th>\n",
       "      <th>Duration</th>\n",
       "      <th>Goa</th>\n",
       "      <th>Gujarat</th>\n",
       "      <th>Haryana</th>\n",
       "      <th>...</th>\n",
       "      <th>Nagaland</th>\n",
       "      <th>Odisha</th>\n",
       "      <th>Punjab</th>\n",
       "      <th>Rajasthan</th>\n",
       "      <th>Sikkim</th>\n",
       "      <th>Tamil_Nadu</th>\n",
       "      <th>Telangana</th>\n",
       "      <th>Tripura</th>\n",
       "      <th>Uttar_Pradesh</th>\n",
       "      <th>Uttarakhand</th>\n",
       "    </tr>\n",
       "  </thead>\n",
       "  <tbody>\n",
       "    <tr>\n",
       "      <th>6</th>\n",
       "      <td>13.86</td>\n",
       "      <td>8.43</td>\n",
       "      <td>13.41</td>\n",
       "      <td>9.56</td>\n",
       "      <td>14.25</td>\n",
       "      <td>12.30</td>\n",
       "      <td>2012-13</td>\n",
       "      <td>-10.02</td>\n",
       "      <td>17.69</td>\n",
       "      <td>16.63</td>\n",
       "      <td>...</td>\n",
       "      <td>15.03</td>\n",
       "      <td>13.34</td>\n",
       "      <td>11.67</td>\n",
       "      <td>13.18</td>\n",
       "      <td>10.51</td>\n",
       "      <td>13.84</td>\n",
       "      <td>11.70</td>\n",
       "      <td>12.78</td>\n",
       "      <td>13.65</td>\n",
       "      <td>14.12</td>\n",
       "    </tr>\n",
       "    <tr>\n",
       "      <th>7</th>\n",
       "      <td>12.97</td>\n",
       "      <td>12.85</td>\n",
       "      <td>16.38</td>\n",
       "      <td>13.31</td>\n",
       "      <td>12.30</td>\n",
       "      <td>16.44</td>\n",
       "      <td>2013-14</td>\n",
       "      <td>-5.77</td>\n",
       "      <td>11.47</td>\n",
       "      <td>15.45</td>\n",
       "      <td>...</td>\n",
       "      <td>21.98</td>\n",
       "      <td>12.95</td>\n",
       "      <td>12.42</td>\n",
       "      <td>11.27</td>\n",
       "      <td>12.35</td>\n",
       "      <td>13.51</td>\n",
       "      <td>12.63</td>\n",
       "      <td>18.14</td>\n",
       "      <td>14.73</td>\n",
       "      <td>13.64</td>\n",
       "    </tr>\n",
       "    <tr>\n",
       "      <th>8</th>\n",
       "      <td>10.65</td>\n",
       "      <td>13.40</td>\n",
       "      <td>14.79</td>\n",
       "      <td>11.45</td>\n",
       "      <td>17.92</td>\n",
       "      <td>13.69</td>\n",
       "      <td>2014-15</td>\n",
       "      <td>13.12</td>\n",
       "      <td>10.82</td>\n",
       "      <td>9.18</td>\n",
       "      <td>...</td>\n",
       "      <td>10.85</td>\n",
       "      <td>10.37</td>\n",
       "      <td>9.95</td>\n",
       "      <td>11.37</td>\n",
       "      <td>9.72</td>\n",
       "      <td>12.51</td>\n",
       "      <td>13.05</td>\n",
       "      <td>15.92</td>\n",
       "      <td>10.51</td>\n",
       "      <td>8.12</td>\n",
       "    </tr>\n",
       "    <tr>\n",
       "      <th>9</th>\n",
       "      <td>9.99</td>\n",
       "      <td>15.85</td>\n",
       "      <td>12.07</td>\n",
       "      <td>13.19</td>\n",
       "      <td>10.59</td>\n",
       "      <td>10.98</td>\n",
       "      <td>2015-16</td>\n",
       "      <td>10.75</td>\n",
       "      <td>11.09</td>\n",
       "      <td>10.91</td>\n",
       "      <td>...</td>\n",
       "      <td>NaN</td>\n",
       "      <td>6.19</td>\n",
       "      <td>NaN</td>\n",
       "      <td>NaN</td>\n",
       "      <td>9.39</td>\n",
       "      <td>10.99</td>\n",
       "      <td>12.61</td>\n",
       "      <td>NaN</td>\n",
       "      <td>10.58</td>\n",
       "      <td>13.65</td>\n",
       "    </tr>\n",
       "  </tbody>\n",
       "</table>\n",
       "<p>4 rows × 31 columns</p>\n",
       "</div>"
      ],
      "text/plain": [
       "   All_India_GDP  Andhra_Pradesh  Arunachal_Pradesh  Assam  Bihar  \\\n",
       "6          13.86            8.43              13.41   9.56  14.25   \n",
       "7          12.97           12.85              16.38  13.31  12.30   \n",
       "8          10.65           13.40              14.79  11.45  17.92   \n",
       "9           9.99           15.85              12.07  13.19  10.59   \n",
       "\n",
       "   Chhattisgarh Duration    Goa  Gujarat  Haryana  ...  Nagaland Odisha  \\\n",
       "6         12.30  2012-13 -10.02    17.69    16.63  ...     15.03  13.34   \n",
       "7         16.44  2013-14  -5.77    11.47    15.45  ...     21.98  12.95   \n",
       "8         13.69  2014-15  13.12    10.82     9.18  ...     10.85  10.37   \n",
       "9         10.98  2015-16  10.75    11.09    10.91  ...       NaN   6.19   \n",
       "\n",
       "   Punjab  Rajasthan  Sikkim  Tamil_Nadu  Telangana  Tripura  Uttar_Pradesh  \\\n",
       "6   11.67      13.18   10.51       13.84      11.70    12.78          13.65   \n",
       "7   12.42      11.27   12.35       13.51      12.63    18.14          14.73   \n",
       "8    9.95      11.37    9.72       12.51      13.05    15.92          10.51   \n",
       "9     NaN        NaN    9.39       10.99      12.61      NaN          10.58   \n",
       "\n",
       "   Uttarakhand  \n",
       "6        14.12  \n",
       "7        13.64  \n",
       "8         8.12  \n",
       "9        13.65  \n",
       "\n",
       "[4 rows x 31 columns]"
      ]
     },
     "execution_count": 17,
     "metadata": {},
     "output_type": "execute_result"
    }
   ],
   "source": [
    "growthrates"
   ]
  },
  {
   "cell_type": "markdown",
   "metadata": {},
   "source": [
    "`1) Plot a graph for rows \" % Growth over previous year\" for all the states (not union territories) whose data is available, use as much data as possible for this exercise. Use the best fit line to represent the growth for each state. Draw a similar line graph for the nation as well.`"
   ]
  },
  {
   "cell_type": "code",
   "execution_count": 18,
   "metadata": {},
   "outputs": [
    {
     "data": {
      "text/plain": [
       "Text(0.5, 0.98, 'Best fit line representing the growth rates for each state')"
      ]
     },
     "execution_count": 18,
     "metadata": {},
     "output_type": "execute_result"
    },
    {
     "data": {
      "image/png": "[encoded data removed]",
      "text/plain": [
       "<Figure size 1296x1440 with 28 Axes>"
      ]
     },
     "metadata": {
      "needs_background": "light"
     },
     "output_type": "display_data"
    }
   ],
   "source": [
    "# Running a loop to plot best fit line for the growth for each state\n",
    "\n",
    "\n",
    "exclusion = ['Items__Description','Duration','All_India_GDP']\n",
    "count = 1\n",
    "plt.figure(figsize =(18,20))\n",
    "\n",
    "# g represents each column\n",
    "\n",
    "for g in growthrates.columns:\n",
    "    if g not in exclusion:\n",
    "        plt.subplot(8,4,count)\n",
    "        plt.title(g) # titling each subplot with column name\n",
    "        plt.xlabel('Year[2011-16]',color = 'blue')\n",
    "        #using regplot to plot the best fitline (without confidence intervals)\n",
    "        sns.regplot([i for i in range(len(growthrates.index))],g,data = growthrates,marker = '+',scatter_kws={\"color\": \"red\"}, line_kws={\"color\": \"blue\"},ci = None)\n",
    "        plt.ylabel('Growth Rate',color = 'Red')\n",
    "        count +=1\n",
    "plt.subplots_adjust(hspace = 0.8)\n",
    "plt.suptitle('Best fit line representing the growth rates for each state',fontsize = 30)"
   ]
  },
  {
   "cell_type": "markdown",
   "metadata": {},
   "source": [
    "### Best fit line of the growth rates of the country over previous year"
   ]
  },
  {
   "cell_type": "code",
   "execution_count": 19,
   "metadata": {},
   "outputs": [
    {
     "data": {
      "text/plain": [
       "Text(0.5, 0, '2011-2015')"
      ]
     },
     "execution_count": 19,
     "metadata": {},
     "output_type": "execute_result"
    },
    {
     "data": {
      "image/png": "[encoded data removed]",
      "text/plain": [
       "<Figure size 432x288 with 1 Axes>"
      ]
     },
     "metadata": {
      "needs_background": "light"
     },
     "output_type": "display_data"
    }
   ],
   "source": [
    "sns.regplot([i for i in range(len(growthrates.index))],'All_India_GDP',data = growthrates,marker = '+',scatter_kws={\"color\": \"red\"}, line_kws={\"color\": \"blue\"},ci = None)\n",
    "plt.title('GRAPH REPRESENTING GROWTH % OF INDIA FROM \"2011-12\"')\n",
    "plt.ylabel('Growth Rate')\n",
    "plt.xlabel('2011-2015')"
   ]
  },
  {
   "cell_type": "markdown",
   "metadata": {},
   "source": [
    "### `How will you compare the growth rates of any two states?`\n",
    "\n",
    "## We can compare the growth rates of any two states by measuring their slope.\n",
    "###  `Any state whose growth rates are falling over the years will have a negative slope and any state whose growth rates are increasing over the years will have a positive slope`"
   ]
  },
  {
   "cell_type": "code",
   "execution_count": 20,
   "metadata": {},
   "outputs": [],
   "source": [
    "# only using necessary columns (excluding growth rates of country)\n",
    "onlystates = growthrates[growthrates.columns.difference(exclusion)]"
   ]
  },
  {
   "cell_type": "code",
   "execution_count": 21,
   "metadata": {},
   "outputs": [],
   "source": [
    "slopes_states = []\n",
    "\n",
    "#looping over each column of 'onlystates'\n",
    "for x in onlystates.columns:\n",
    "    k = np.arange(len(onlystates[x].dropna()))\n",
    "    #fitting a one degree polynomial using polyfit\n",
    "    m,c = np.polyfit(k,onlystates[x].dropna(),1)\n",
    "    slopes_states.append([x,m]) # m is the slope "
   ]
  },
  {
   "cell_type": "code",
   "execution_count": 22,
   "metadata": {},
   "outputs": [
    {
     "data": {
      "text/plain": [
       "[['Andhra_Pradesh', 2.2809999999999993],\n",
       " ['Arunachal_Pradesh', -0.5610000000000038],\n",
       " ['Assam', 0.9029999999999957],\n",
       " ['Bihar', -0.536000000000005],\n",
       " ['Chhattisgarh', -0.6710000000000035],\n",
       " ['Goa', 8.120000000000005],\n",
       " ['Gujarat', -2.0450000000000044],\n",
       " ['Haryana', -2.343000000000003],\n",
       " ['Himachal_Pradesh', -1.8750000000000027],\n",
       " ['Jammu_&_Kashmir', 1.4409999999999976],\n",
       " ['Jharkhand', -0.5770000000000036],\n",
       " ['Karnataka', -1.496000000000004],\n",
       " ['Kerala', -0.3910000000000037],\n",
       " ['Madhya_Pradesh', -2.835000000000006],\n",
       " ['Maharashtra', -2.5050000000000026],\n",
       " ['Manipur', 2.4699999999999998],\n",
       " ['Meghalaya', 0.08499999999999912],\n",
       " ['Mizoram', -1.4500000000000013],\n",
       " ['Nagaland', -2.090000000000002],\n",
       " ['Odisha', -2.403000000000004],\n",
       " ['Punjab', -0.8600000000000001],\n",
       " ['Rajasthan', -0.9049999999999988],\n",
       " ['Sikkim', -0.599000000000001],\n",
       " ['Tamil_Nadu', -0.9550000000000034],\n",
       " ['Telangana', 0.3149999999999967],\n",
       " ['Tripura', 1.5699999999999987],\n",
       " ['Uttar_Pradesh', -1.3430000000000017],\n",
       " ['Uttarakhand', -0.6930000000000022]]"
      ]
     },
     "execution_count": 22,
     "metadata": {},
     "output_type": "execute_result"
    }
   ],
   "source": [
    "slopes_states #each state and the slope of the growth rate over the coordinate axes"
   ]
  },
  {
   "cell_type": "code",
   "execution_count": 23,
   "metadata": {},
   "outputs": [],
   "source": [
    "# creating a pandas series by taking 0th element of each sublist as index of the series and 1st element as 'series'\n",
    "\n",
    "slopeseries = pd.Series([slopes_states[x][1] for x in range(len(slopes_states))] ,index = [slopes_states[x][0] for x in range(len(slopes_states))])"
   ]
  },
  {
   "cell_type": "code",
   "execution_count": 24,
   "metadata": {},
   "outputs": [],
   "source": [
    "slopeseries = slopeseries.sort_values(ascending = False)"
   ]
  },
  {
   "cell_type": "code",
   "execution_count": 25,
   "metadata": {},
   "outputs": [
    {
     "data": {
      "text/plain": [
       "Goa                  8.120\n",
       "Manipur              2.470\n",
       "Andhra_Pradesh       2.281\n",
       "Tripura              1.570\n",
       "Jammu_&_Kashmir      1.441\n",
       "Assam                0.903\n",
       "Telangana            0.315\n",
       "Meghalaya            0.085\n",
       "Kerala              -0.391\n",
       "Bihar               -0.536\n",
       "Arunachal_Pradesh   -0.561\n",
       "Jharkhand           -0.577\n",
       "Sikkim              -0.599\n",
       "Chhattisgarh        -0.671\n",
       "Uttarakhand         -0.693\n",
       "Punjab              -0.860\n",
       "Rajasthan           -0.905\n",
       "Tamil_Nadu          -0.955\n",
       "Uttar_Pradesh       -1.343\n",
       "Mizoram             -1.450\n",
       "Karnataka           -1.496\n",
       "Himachal_Pradesh    -1.875\n",
       "Gujarat             -2.045\n",
       "Nagaland            -2.090\n",
       "Haryana             -2.343\n",
       "Odisha              -2.403\n",
       "Maharashtra         -2.505\n",
       "Madhya_Pradesh      -2.835\n",
       "dtype: float64"
      ]
     },
     "execution_count": 25,
     "metadata": {},
     "output_type": "execute_result"
    }
   ],
   "source": [
    "slopeseries #HERE WE CAN COMPARE GROWTH RATES OF ANY TWO STATES IF NEEDED"
   ]
  },
  {
   "cell_type": "markdown",
   "metadata": {},
   "source": [
    "#### Which states have been growing consistently fast, and which ones have been struggling? Rank top 3 fastest and 3 slowest-growing states."
   ]
  },
  {
   "cell_type": "markdown",
   "metadata": {},
   "source": [
    "### Top 3 fastest growing states"
   ]
  },
  {
   "cell_type": "code",
   "execution_count": 26,
   "metadata": {},
   "outputs": [
    {
     "name": "stdout",
     "output_type": "stream",
     "text": [
      "Goa\n",
      "Manipur\n",
      "Andhra_Pradesh\n"
     ]
    }
   ],
   "source": [
    "for x in slopeseries[:3].index:\n",
    "    print(x)"
   ]
  },
  {
   "cell_type": "markdown",
   "metadata": {},
   "source": [
    "### Slowest growing states over the years"
   ]
  },
  {
   "cell_type": "code",
   "execution_count": 27,
   "metadata": {},
   "outputs": [
    {
     "name": "stdout",
     "output_type": "stream",
     "text": [
      "Odisha\n",
      "Maharashtra\n",
      "Madhya_Pradesh\n"
     ]
    }
   ],
   "source": [
    "for x in slopeseries[-3:].index:\n",
    "    print(x)"
   ]
  },
  {
   "cell_type": "markdown",
   "metadata": {},
   "source": [
    "### Nations growth rate"
   ]
  },
  {
   "cell_type": "code",
   "execution_count": 28,
   "metadata": {},
   "outputs": [
    {
     "data": {
      "text/plain": [
       "11.8675"
      ]
     },
     "execution_count": 28,
     "metadata": {},
     "output_type": "execute_result"
    }
   ],
   "source": [
    "growthrates['All_India_GDP'].mean()"
   ]
  },
  {
   "cell_type": "markdown",
   "metadata": {},
   "source": [
    "#### What has been the growth rate of your home state, and how does it compare to the national growth rate?"
   ]
  },
  {
   "cell_type": "code",
   "execution_count": 29,
   "metadata": {},
   "outputs": [
    {
     "data": {
      "text/plain": [
       "12.497499999999999"
      ]
     },
     "execution_count": 29,
     "metadata": {},
     "output_type": "execute_result"
    }
   ],
   "source": [
    "growthrates['Telangana'].mean()"
   ]
  },
  {
   "cell_type": "code",
   "execution_count": 30,
   "metadata": {},
   "outputs": [
    {
     "data": {
      "text/plain": [
       "Text(0.5, 1.0, 'Comparsion of Growth Rates over the years for Telangana and India')"
      ]
     },
     "execution_count": 30,
     "metadata": {},
     "output_type": "execute_result"
    },
    {
     "data": {
      "image/png": "[encoded data removed]",
      "text/plain": [
       "<Figure size 432x288 with 1 Axes>"
      ]
     },
     "metadata": {
      "needs_background": "light"
     },
     "output_type": "display_data"
    }
   ],
   "source": [
    "# COMPARING GROWTH RATES OF TELANGANA AND THE NATION BY PLOTTING IT\n",
    "# USING regplot again\n",
    "sns.regplot([i for i in range(len(growthrates.index))],'All_India_GDP',data = growthrates,marker = '+',scatter_kws={\"color\": \"red\"}, line_kws={\"color\": \"red\"},ci = None,label = 'National Growth Rate')\n",
    "sns.regplot([i for i in range(len(growthrates.index))],'Telangana',data = growthrates,marker = '+',scatter_kws={\"color\": \"blue\"}, line_kws={\"color\": \"blue\"},ci = None,label = 'Telangana Growth Rate')\n",
    "plt.ylabel('Growth Rate',color = 'Green')\n",
    "plt.xlabel('Year',color = 'Green')\n",
    "plt.title('Comparsion of Growth Rates over the years for Telangana and India')\n"
   ]
  },
  {
   "cell_type": "markdown",
   "metadata": {},
   "source": [
    "## Plot the total GDP of the states for the year 2015-16:"
   ]
  },
  {
   "cell_type": "markdown",
   "metadata": {},
   "source": [
    "#### Selecting rows containing the total Gdp"
   ]
  },
  {
   "cell_type": "code",
   "execution_count": 31,
   "metadata": {},
   "outputs": [],
   "source": [
    "totalgdp = Data_1A.loc[Data_1A['Items__Description'] =='GSDP - CURRENT PRICES (` in Crore)']"
   ]
  },
  {
   "cell_type": "markdown",
   "metadata": {},
   "source": [
    "#### Filtering data only for the year 2015-16"
   ]
  },
  {
   "cell_type": "code",
   "execution_count": 32,
   "metadata": {},
   "outputs": [],
   "source": [
    "gdp_15 = totalgdp[totalgdp['Duration'] == '2015-16']"
   ]
  },
  {
   "cell_type": "markdown",
   "metadata": {},
   "source": [
    "#### Selecting only necessary columns"
   ]
  },
  {
   "cell_type": "code",
   "execution_count": 33,
   "metadata": {},
   "outputs": [],
   "source": [
    "gdp_15 = gdp_15[gdp_15.columns.difference(exclusion)]"
   ]
  },
  {
   "cell_type": "markdown",
   "metadata": {},
   "source": [
    "#### Transposing the dataframe so has to have states as index and for easier analysis"
   ]
  },
  {
   "cell_type": "code",
   "execution_count": 34,
   "metadata": {},
   "outputs": [],
   "source": [
    "transpose = gdp_15.T\n",
    "transpose.columns = ['Gdp for the year 2015-16'] #Naming the column"
   ]
  },
  {
   "cell_type": "code",
   "execution_count": 35,
   "metadata": {},
   "outputs": [
    {
     "data": {
      "text/html": [
       "<div>\n",
       "<style scoped>\n",
       "    .dataframe tbody tr th:only-of-type {\n",
       "        vertical-align: middle;\n",
       "    }\n",
       "\n",
       "    .dataframe tbody tr th {\n",
       "        vertical-align: top;\n",
       "    }\n",
       "\n",
       "    .dataframe thead th {\n",
       "        text-align: right;\n",
       "    }\n",
       "</style>\n",
       "<table border=\"1\" class=\"dataframe\">\n",
       "  <thead>\n",
       "    <tr style=\"text-align: right;\">\n",
       "      <th></th>\n",
       "      <th>Gdp for the year 2015-16</th>\n",
       "    </tr>\n",
       "  </thead>\n",
       "  <tbody>\n",
       "    <tr>\n",
       "      <th>Andhra_Pradesh</th>\n",
       "      <td>609934.0</td>\n",
       "    </tr>\n",
       "    <tr>\n",
       "      <th>Arunachal_Pradesh</th>\n",
       "      <td>18784.0</td>\n",
       "    </tr>\n",
       "    <tr>\n",
       "      <th>Assam</th>\n",
       "      <td>224234.0</td>\n",
       "    </tr>\n",
       "    <tr>\n",
       "      <th>Bihar</th>\n",
       "      <td>413503.0</td>\n",
       "    </tr>\n",
       "    <tr>\n",
       "      <th>Chhattisgarh</th>\n",
       "      <td>260776.0</td>\n",
       "    </tr>\n",
       "  </tbody>\n",
       "</table>\n",
       "</div>"
      ],
      "text/plain": [
       "                   Gdp for the year 2015-16\n",
       "Andhra_Pradesh                     609934.0\n",
       "Arunachal_Pradesh                   18784.0\n",
       "Assam                              224234.0\n",
       "Bihar                              413503.0\n",
       "Chhattisgarh                       260776.0"
      ]
     },
     "execution_count": 35,
     "metadata": {},
     "output_type": "execute_result"
    }
   ],
   "source": [
    "transpose.head()"
   ]
  },
  {
   "cell_type": "markdown",
   "metadata": {},
   "source": [
    "#### Dropping the rows for the states whose data is not available for 2015-16"
   ]
  },
  {
   "cell_type": "code",
   "execution_count": 36,
   "metadata": {},
   "outputs": [],
   "source": [
    "\n",
    "transpose = transpose.dropna()"
   ]
  },
  {
   "cell_type": "markdown",
   "metadata": {},
   "source": [
    "### USING HORIZONTAL BAR PLOT AS THERE ARE MANY STATES "
   ]
  },
  {
   "cell_type": "code",
   "execution_count": 37,
   "metadata": {},
   "outputs": [
    {
     "data": {
      "text/plain": [
       "<matplotlib.axes._subplots.AxesSubplot at 0x7ffe08b66978>"
      ]
     },
     "execution_count": 37,
     "metadata": {},
     "output_type": "execute_result"
    },
    {
     "data": {
      "image/png": "[encoded data removed]",
      "text/plain": [
       "<Figure size 720x720 with 1 Axes>"
      ]
     },
     "metadata": {
      "needs_background": "light"
     },
     "output_type": "display_data"
    }
   ],
   "source": [
    "transpose = transpose.sort_values(by = 'Gdp for the year 2015-16',ascending = False)\n",
    "plt.figure(figsize =(10,10))\n",
    "sns.barplot(x = 'Gdp for the year 2015-16',y = transpose.index ,data = transpose)"
   ]
  },
  {
   "cell_type": "markdown",
   "metadata": {},
   "source": [
    "### TOP 5 STATES BASED ON GDP"
   ]
  },
  {
   "cell_type": "code",
   "execution_count": 38,
   "metadata": {},
   "outputs": [
    {
     "data": {
      "text/html": [
       "<div>\n",
       "<style scoped>\n",
       "    .dataframe tbody tr th:only-of-type {\n",
       "        vertical-align: middle;\n",
       "    }\n",
       "\n",
       "    .dataframe tbody tr th {\n",
       "        vertical-align: top;\n",
       "    }\n",
       "\n",
       "    .dataframe thead th {\n",
       "        text-align: right;\n",
       "    }\n",
       "</style>\n",
       "<table border=\"1\" class=\"dataframe\">\n",
       "  <thead>\n",
       "    <tr style=\"text-align: right;\">\n",
       "      <th></th>\n",
       "      <th>Gdp for the year 2015-16</th>\n",
       "    </tr>\n",
       "  </thead>\n",
       "  <tbody>\n",
       "    <tr>\n",
       "      <th>Tamil_Nadu</th>\n",
       "      <td>1212668.0</td>\n",
       "    </tr>\n",
       "    <tr>\n",
       "      <th>Uttar_Pradesh</th>\n",
       "      <td>1153795.0</td>\n",
       "    </tr>\n",
       "    <tr>\n",
       "      <th>Karnataka</th>\n",
       "      <td>1027068.0</td>\n",
       "    </tr>\n",
       "    <tr>\n",
       "      <th>Gujarat</th>\n",
       "      <td>994316.0</td>\n",
       "    </tr>\n",
       "    <tr>\n",
       "      <th>Andhra_Pradesh</th>\n",
       "      <td>609934.0</td>\n",
       "    </tr>\n",
       "  </tbody>\n",
       "</table>\n",
       "</div>"
      ],
      "text/plain": [
       "                Gdp for the year 2015-16\n",
       "Tamil_Nadu                     1212668.0\n",
       "Uttar_Pradesh                  1153795.0\n",
       "Karnataka                      1027068.0\n",
       "Gujarat                         994316.0\n",
       "Andhra_Pradesh                  609934.0"
      ]
     },
     "execution_count": 38,
     "metadata": {},
     "output_type": "execute_result"
    }
   ],
   "source": [
    "transpose.iloc[:5]\n"
   ]
  },
  {
   "cell_type": "markdown",
   "metadata": {},
   "source": [
    "### BOTTOM 5 STATES BASED ON GDP"
   ]
  },
  {
   "cell_type": "code",
   "execution_count": 39,
   "metadata": {},
   "outputs": [
    {
     "data": {
      "text/html": [
       "<div>\n",
       "<style scoped>\n",
       "    .dataframe tbody tr th:only-of-type {\n",
       "        vertical-align: middle;\n",
       "    }\n",
       "\n",
       "    .dataframe tbody tr th {\n",
       "        vertical-align: top;\n",
       "    }\n",
       "\n",
       "    .dataframe thead th {\n",
       "        text-align: right;\n",
       "    }\n",
       "</style>\n",
       "<table border=\"1\" class=\"dataframe\">\n",
       "  <thead>\n",
       "    <tr style=\"text-align: right;\">\n",
       "      <th></th>\n",
       "      <th>Gdp for the year 2015-16</th>\n",
       "    </tr>\n",
       "  </thead>\n",
       "  <tbody>\n",
       "    <tr>\n",
       "      <th>Sikkim</th>\n",
       "      <td>16637.0</td>\n",
       "    </tr>\n",
       "    <tr>\n",
       "      <th>Arunachal_Pradesh</th>\n",
       "      <td>18784.0</td>\n",
       "    </tr>\n",
       "    <tr>\n",
       "      <th>Meghalaya</th>\n",
       "      <td>26745.0</td>\n",
       "    </tr>\n",
       "    <tr>\n",
       "      <th>Goa</th>\n",
       "      <td>45002.0</td>\n",
       "    </tr>\n",
       "    <tr>\n",
       "      <th>Jammu_&amp;_Kashmir</th>\n",
       "      <td>118387.0</td>\n",
       "    </tr>\n",
       "  </tbody>\n",
       "</table>\n",
       "</div>"
      ],
      "text/plain": [
       "                   Gdp for the year 2015-16\n",
       "Sikkim                              16637.0\n",
       "Arunachal_Pradesh                   18784.0\n",
       "Meghalaya                           26745.0\n",
       "Goa                                 45002.0\n",
       "Jammu_&_Kashmir                    118387.0"
      ]
     },
     "execution_count": 39,
     "metadata": {},
     "output_type": "execute_result"
    }
   ],
   "source": [
    "transpose.iloc[-5:].sort_values('Gdp for the year 2015-16')"
   ]
  },
  {
   "cell_type": "markdown",
   "metadata": {},
   "source": [
    "#### What insights can you draw from this graph? What states are performing poorly? (Remember: this will not be solely based on total GDP)\n",
    "\n",
    "## Lets compare 'The total gdp' with the 'growth rates over the years' for all states "
   ]
  },
  {
   "cell_type": "code",
   "execution_count": 40,
   "metadata": {},
   "outputs": [],
   "source": [
    "slopedf = slopeseries.to_frame()\n",
    "slopedf.columns = ['Slope']\n"
   ]
  },
  {
   "cell_type": "code",
   "execution_count": 41,
   "metadata": {},
   "outputs": [
    {
     "data": {
      "text/html": [
       "<div>\n",
       "<style scoped>\n",
       "    .dataframe tbody tr th:only-of-type {\n",
       "        vertical-align: middle;\n",
       "    }\n",
       "\n",
       "    .dataframe tbody tr th {\n",
       "        vertical-align: top;\n",
       "    }\n",
       "\n",
       "    .dataframe thead th {\n",
       "        text-align: right;\n",
       "    }\n",
       "</style>\n",
       "<table border=\"1\" class=\"dataframe\">\n",
       "  <thead>\n",
       "    <tr style=\"text-align: right;\">\n",
       "      <th></th>\n",
       "      <th>Gdp for the year 2015-16</th>\n",
       "      <th>Slope</th>\n",
       "    </tr>\n",
       "  </thead>\n",
       "  <tbody>\n",
       "    <tr>\n",
       "      <th>Tamil_Nadu</th>\n",
       "      <td>1212668.0</td>\n",
       "      <td>-0.955</td>\n",
       "    </tr>\n",
       "    <tr>\n",
       "      <th>Uttar_Pradesh</th>\n",
       "      <td>1153795.0</td>\n",
       "      <td>-1.343</td>\n",
       "    </tr>\n",
       "    <tr>\n",
       "      <th>Karnataka</th>\n",
       "      <td>1027068.0</td>\n",
       "      <td>-1.496</td>\n",
       "    </tr>\n",
       "    <tr>\n",
       "      <th>Gujarat</th>\n",
       "      <td>994316.0</td>\n",
       "      <td>-2.045</td>\n",
       "    </tr>\n",
       "    <tr>\n",
       "      <th>Andhra_Pradesh</th>\n",
       "      <td>609934.0</td>\n",
       "      <td>2.281</td>\n",
       "    </tr>\n",
       "    <tr>\n",
       "      <th>Kerala</th>\n",
       "      <td>588337.0</td>\n",
       "      <td>-0.391</td>\n",
       "    </tr>\n",
       "    <tr>\n",
       "      <th>Telangana</th>\n",
       "      <td>575631.0</td>\n",
       "      <td>0.315</td>\n",
       "    </tr>\n",
       "    <tr>\n",
       "      <th>Madhya_Pradesh</th>\n",
       "      <td>543975.0</td>\n",
       "      <td>-2.835</td>\n",
       "    </tr>\n",
       "    <tr>\n",
       "      <th>Haryana</th>\n",
       "      <td>485184.0</td>\n",
       "      <td>-2.343</td>\n",
       "    </tr>\n",
       "    <tr>\n",
       "      <th>Bihar</th>\n",
       "      <td>413503.0</td>\n",
       "      <td>-0.536</td>\n",
       "    </tr>\n",
       "    <tr>\n",
       "      <th>Odisha</th>\n",
       "      <td>341887.0</td>\n",
       "      <td>-2.403</td>\n",
       "    </tr>\n",
       "    <tr>\n",
       "      <th>Chhattisgarh</th>\n",
       "      <td>260776.0</td>\n",
       "      <td>-0.671</td>\n",
       "    </tr>\n",
       "    <tr>\n",
       "      <th>Jharkhand</th>\n",
       "      <td>241955.0</td>\n",
       "      <td>-0.577</td>\n",
       "    </tr>\n",
       "    <tr>\n",
       "      <th>Assam</th>\n",
       "      <td>224234.0</td>\n",
       "      <td>0.903</td>\n",
       "    </tr>\n",
       "    <tr>\n",
       "      <th>Uttarakhand</th>\n",
       "      <td>184091.0</td>\n",
       "      <td>-0.693</td>\n",
       "    </tr>\n",
       "    <tr>\n",
       "      <th>Jammu_&amp;_Kashmir</th>\n",
       "      <td>118387.0</td>\n",
       "      <td>1.441</td>\n",
       "    </tr>\n",
       "    <tr>\n",
       "      <th>Goa</th>\n",
       "      <td>45002.0</td>\n",
       "      <td>8.120</td>\n",
       "    </tr>\n",
       "    <tr>\n",
       "      <th>Meghalaya</th>\n",
       "      <td>26745.0</td>\n",
       "      <td>0.085</td>\n",
       "    </tr>\n",
       "    <tr>\n",
       "      <th>Arunachal_Pradesh</th>\n",
       "      <td>18784.0</td>\n",
       "      <td>-0.561</td>\n",
       "    </tr>\n",
       "    <tr>\n",
       "      <th>Sikkim</th>\n",
       "      <td>16637.0</td>\n",
       "      <td>-0.599</td>\n",
       "    </tr>\n",
       "  </tbody>\n",
       "</table>\n",
       "</div>"
      ],
      "text/plain": [
       "                   Gdp for the year 2015-16  Slope\n",
       "Tamil_Nadu                        1212668.0 -0.955\n",
       "Uttar_Pradesh                     1153795.0 -1.343\n",
       "Karnataka                         1027068.0 -1.496\n",
       "Gujarat                            994316.0 -2.045\n",
       "Andhra_Pradesh                     609934.0  2.281\n",
       "Kerala                             588337.0 -0.391\n",
       "Telangana                          575631.0  0.315\n",
       "Madhya_Pradesh                     543975.0 -2.835\n",
       "Haryana                            485184.0 -2.343\n",
       "Bihar                              413503.0 -0.536\n",
       "Odisha                             341887.0 -2.403\n",
       "Chhattisgarh                       260776.0 -0.671\n",
       "Jharkhand                          241955.0 -0.577\n",
       "Assam                              224234.0  0.903\n",
       "Uttarakhand                        184091.0 -0.693\n",
       "Jammu_&_Kashmir                    118387.0  1.441\n",
       "Goa                                 45002.0  8.120\n",
       "Meghalaya                           26745.0  0.085\n",
       "Arunachal_Pradesh                   18784.0 -0.561\n",
       "Sikkim                              16637.0 -0.599"
      ]
     },
     "execution_count": 41,
     "metadata": {},
     "output_type": "execute_result"
    }
   ],
   "source": [
    "# merging the data containing total gdp and slopes of all states\n",
    "mixed = pd.concat([transpose,slopedf],axis = 1,sort = False)\n",
    "mixed = mixed.dropna()\n",
    "mixed"
   ]
  },
  {
   "cell_type": "markdown",
   "metadata": {},
   "source": [
    "### Plotting slopes of growth rates and Total Gdp to get further understanding"
   ]
  },
  {
   "cell_type": "code",
   "execution_count": 42,
   "metadata": {},
   "outputs": [
    {
     "data": {
      "image/png": "[encoded data removed]",
      "text/plain": [
       "<Figure size 720x720 with 2 Axes>"
      ]
     },
     "metadata": {
      "needs_background": "light"
     },
     "output_type": "display_data"
    }
   ],
   "source": [
    "plt.figure(figsize =(10,10))\n",
    "plt.subplot(121)\n",
    "plt.title('Gdp for the year 2015-16')\n",
    "sns.barplot(x = 'Gdp for the year 2015-16',y = mixed.index ,data = mixed)\n",
    "plt.subplot(122)\n",
    "plt.title('Increase and decrease in growth rates from 2011-16')\n",
    "sns.barplot(x = 'Slope',y = mixed.index ,data = mixed)\n",
    "plt.tight_layout()"
   ]
  },
  {
   "cell_type": "markdown",
   "metadata": {},
   "source": [
    "#### 1) Though Gdp for the year 2015-16 is highest for Tamil-Nadu we can see that the growth rate is decreasing slightly over the years\n",
    "#### 2) The Gdp for goa in total is very less compared to other states but the the growth rate of Goa is improving enormously over the years\n",
    "#### 3) Madhya Pradesh is in caution. The growth rates are falling down at a much faster rate\n",
    "\n",
    "### Another interesting trend is out of all the top 5 states who had higher Gsdp for 2015-16 ,Andhra Pradesh is the only state where positive growth rate is observed . This indicates Andhra Pradesh has a scope of having much more economic growth in upcoming years "
   ]
  },
  {
   "cell_type": "markdown",
   "metadata": {},
   "source": [
    "# PART 1B"
   ]
  },
  {
   "cell_type": "code",
   "execution_count": 43,
   "metadata": {},
   "outputs": [],
   "source": [
    "import glob  # /Users/madhavan/Desktop/new /EDA - programming in python/GDP assignment/data1b/1b/NAD-Bihar-GSVA_cur_2015-16.csv"
   ]
  },
  {
   "cell_type": "code",
   "execution_count": 44,
   "metadata": {},
   "outputs": [],
   "source": [
    "path = '/Users/madhavan/Desktop/new /EDA - programming in python/GDP assignment/data1b/1b'"
   ]
  },
  {
   "cell_type": "code",
   "execution_count": 45,
   "metadata": {},
   "outputs": [],
   "source": [
    "allfiles = glob.glob(path + '/*.csv' )  #importing all the csv files Pertaining to distrbution of GSDP b/w 3 sectors"
   ]
  },
  {
   "cell_type": "code",
   "execution_count": 46,
   "metadata": {},
   "outputs": [],
   "source": [
    "# Running a loop on each element of 'allfiles' which is a full path of a csv file \n",
    "\n",
    "all_list = []\n",
    "\n",
    "#file here represents a csv file \n",
    "for file in allfiles:\n",
    "    onefile = pd.read_csv(file,encoding = 'ISO-8859-1')\n",
    "    onefile = onefile[['Item','2014-15']]  #taking only two columns which are necessary\n",
    "    onefile = onefile.T   # Transposing the dataframe by putting '2014-15' in rows and 'item' in column\n",
    "    onefile.columns = onefile.iloc[0].str.rstrip('*') #naming the 0th row of the df as 'column header'\n",
    "    onefile = onefile[1:] #filtering the dataframe\n",
    "    onefile['State'] = file.split('/')[-1].split('-')[1]   #CREATING A NEW COLUMN (NAME OF THE STATE WHICH IS PRESENT IN THE PATH)\n",
    "    all_list.append(onefile)  # appending each data frame to 'all_list'\n",
    "    \n",
    "\n",
    "    "
   ]
  },
  {
   "cell_type": "markdown",
   "metadata": {},
   "source": [
    "#### Concatenate all the dataframes in 'all_list' to get the required data"
   ]
  },
  {
   "cell_type": "code",
   "execution_count": 47,
   "metadata": {},
   "outputs": [
    {
     "data": {
      "text/html": [
       "<div>\n",
       "<style scoped>\n",
       "    .dataframe tbody tr th:only-of-type {\n",
       "        vertical-align: middle;\n",
       "    }\n",
       "\n",
       "    .dataframe tbody tr th {\n",
       "        vertical-align: top;\n",
       "    }\n",
       "\n",
       "    .dataframe thead th {\n",
       "        text-align: right;\n",
       "    }\n",
       "</style>\n",
       "<table border=\"1\" class=\"dataframe\">\n",
       "  <thead>\n",
       "    <tr style=\"text-align: right;\">\n",
       "      <th>Item</th>\n",
       "      <th>Agriculture, forestry and fishing</th>\n",
       "      <th>Crops</th>\n",
       "      <th>Livestock</th>\n",
       "      <th>Forestry and logging</th>\n",
       "      <th>Fishing and aquaculture</th>\n",
       "      <th>Mining and quarrying</th>\n",
       "      <th>Primary</th>\n",
       "      <th>Manufacturing</th>\n",
       "      <th>Electricity, gas, water supply &amp; other utility services</th>\n",
       "      <th>Construction</th>\n",
       "      <th>...</th>\n",
       "      <th>Public administration</th>\n",
       "      <th>Other services</th>\n",
       "      <th>Tertiary</th>\n",
       "      <th>TOTAL GSVA at basic prices</th>\n",
       "      <th>Taxes on Products</th>\n",
       "      <th>Subsidies on products</th>\n",
       "      <th>Gross State Domestic Product</th>\n",
       "      <th>Population ('00)</th>\n",
       "      <th>Per Capita GSDP (Rs.)</th>\n",
       "      <th>State</th>\n",
       "    </tr>\n",
       "  </thead>\n",
       "  <tbody>\n",
       "    <tr>\n",
       "      <th>0</th>\n",
       "      <td>15044394</td>\n",
       "      <td>7673441</td>\n",
       "      <td>5356257</td>\n",
       "      <td>1956660</td>\n",
       "      <td>58036</td>\n",
       "      <td>4069385</td>\n",
       "      <td>19113780</td>\n",
       "      <td>6552580</td>\n",
       "      <td>1122888</td>\n",
       "      <td>5353326</td>\n",
       "      <td>...</td>\n",
       "      <td>2460364</td>\n",
       "      <td>4164287</td>\n",
       "      <td>26015812</td>\n",
       "      <td>58158386</td>\n",
       "      <td>5394503</td>\n",
       "      <td>2333442</td>\n",
       "      <td>61219447</td>\n",
       "      <td>721610</td>\n",
       "      <td>84837</td>\n",
       "      <td>Rajasthan</td>\n",
       "    </tr>\n",
       "    <tr>\n",
       "      <th>1</th>\n",
       "      <td>7591501</td>\n",
       "      <td>4162493</td>\n",
       "      <td>2951299</td>\n",
       "      <td>210741</td>\n",
       "      <td>266968</td>\n",
       "      <td>1541853</td>\n",
       "      <td>9133354</td>\n",
       "      <td>6353711</td>\n",
       "      <td>716266</td>\n",
       "      <td>2854024</td>\n",
       "      <td>...</td>\n",
       "      <td>1711265</td>\n",
       "      <td>4158229</td>\n",
       "      <td>28471410</td>\n",
       "      <td>47528765</td>\n",
       "      <td>4425700</td>\n",
       "      <td>836700</td>\n",
       "      <td>51117765</td>\n",
       "      <td>367660</td>\n",
       "      <td>139035</td>\n",
       "      <td>Telangana</td>\n",
       "    </tr>\n",
       "    <tr>\n",
       "      <th>2</th>\n",
       "      <td>6422978</td>\n",
       "      <td>4382636</td>\n",
       "      <td>788243</td>\n",
       "      <td>791463</td>\n",
       "      <td>460636</td>\n",
       "      <td>2586328</td>\n",
       "      <td>9009306</td>\n",
       "      <td>5754229</td>\n",
       "      <td>833067</td>\n",
       "      <td>2402396</td>\n",
       "      <td>...</td>\n",
       "      <td>1318221</td>\n",
       "      <td>2340603</td>\n",
       "      <td>12256258</td>\n",
       "      <td>30255256</td>\n",
       "      <td>3151184</td>\n",
       "      <td>1209349</td>\n",
       "      <td>32197092</td>\n",
       "      <td>435220</td>\n",
       "      <td>73979</td>\n",
       "      <td>Odisha</td>\n",
       "    </tr>\n",
       "    <tr>\n",
       "      <th>3</th>\n",
       "      <td>3855548</td>\n",
       "      <td>2890544</td>\n",
       "      <td>173478</td>\n",
       "      <td>261987</td>\n",
       "      <td>529539</td>\n",
       "      <td>1471149</td>\n",
       "      <td>5326697</td>\n",
       "      <td>2002936</td>\n",
       "      <td>296587</td>\n",
       "      <td>1733568</td>\n",
       "      <td>...</td>\n",
       "      <td>1373611</td>\n",
       "      <td>1795658</td>\n",
       "      <td>9307109</td>\n",
       "      <td>18666897</td>\n",
       "      <td>1725309</td>\n",
       "      <td>582406</td>\n",
       "      <td>19809800</td>\n",
       "      <td>326780</td>\n",
       "      <td>60621</td>\n",
       "      <td>Assam</td>\n",
       "    </tr>\n",
       "    <tr>\n",
       "      <th>4</th>\n",
       "      <td>7951890</td>\n",
       "      <td>4688237</td>\n",
       "      <td>2060296</td>\n",
       "      <td>550132</td>\n",
       "      <td>653224</td>\n",
       "      <td>68107</td>\n",
       "      <td>8019997</td>\n",
       "      <td>2189965</td>\n",
       "      <td>345168</td>\n",
       "      <td>3449763</td>\n",
       "      <td>...</td>\n",
       "      <td>2078171</td>\n",
       "      <td>4587589</td>\n",
       "      <td>22179969</td>\n",
       "      <td>36184863</td>\n",
       "      <td>3213546</td>\n",
       "      <td>2006421</td>\n",
       "      <td>37391988</td>\n",
       "      <td>1101240</td>\n",
       "      <td>33954</td>\n",
       "      <td>Bihar</td>\n",
       "    </tr>\n",
       "  </tbody>\n",
       "</table>\n",
       "<p>5 rows × 34 columns</p>\n",
       "</div>"
      ],
      "text/plain": [
       "Item Agriculture, forestry and fishing    Crops Livestock  \\\n",
       "0                             15044394  7673441   5356257   \n",
       "1                              7591501  4162493   2951299   \n",
       "2                              6422978  4382636    788243   \n",
       "3                              3855548  2890544    173478   \n",
       "4                              7951890  4688237   2060296   \n",
       "\n",
       "Item Forestry and logging Fishing and aquaculture Mining and quarrying  \\\n",
       "0                 1956660                   58036              4069385   \n",
       "1                  210741                  266968              1541853   \n",
       "2                  791463                  460636              2586328   \n",
       "3                  261987                  529539              1471149   \n",
       "4                  550132                  653224                68107   \n",
       "\n",
       "Item   Primary Manufacturing  \\\n",
       "0     19113780       6552580   \n",
       "1      9133354       6353711   \n",
       "2      9009306       5754229   \n",
       "3      5326697       2002936   \n",
       "4      8019997       2189965   \n",
       "\n",
       "Item Electricity, gas, water supply & other utility services Construction  \\\n",
       "0                                               1122888           5353326   \n",
       "1                                                716266           2854024   \n",
       "2                                                833067           2402396   \n",
       "3                                                296587           1733568   \n",
       "4                                                345168           3449763   \n",
       "\n",
       "Item  ... Public administration Other services  Tertiary  \\\n",
       "0     ...               2460364        4164287  26015812   \n",
       "1     ...               1711265        4158229  28471410   \n",
       "2     ...               1318221        2340603  12256258   \n",
       "3     ...               1373611        1795658   9307109   \n",
       "4     ...               2078171        4587589  22179969   \n",
       "\n",
       "Item TOTAL GSVA at basic prices Taxes on Products Subsidies on products  \\\n",
       "0                      58158386           5394503               2333442   \n",
       "1                      47528765           4425700                836700   \n",
       "2                      30255256           3151184               1209349   \n",
       "3                      18666897           1725309                582406   \n",
       "4                      36184863           3213546               2006421   \n",
       "\n",
       "Item Gross State Domestic Product Population ('00) Per Capita GSDP (Rs.)  \\\n",
       "0                        61219447           721610                 84837   \n",
       "1                        51117765           367660                139035   \n",
       "2                        32197092           435220                 73979   \n",
       "3                        19809800           326780                 60621   \n",
       "4                        37391988          1101240                 33954   \n",
       "\n",
       "Item      State  \n",
       "0     Rajasthan  \n",
       "1     Telangana  \n",
       "2        Odisha  \n",
       "3         Assam  \n",
       "4         Bihar  \n",
       "\n",
       "[5 rows x 34 columns]"
      ]
     },
     "execution_count": 47,
     "metadata": {},
     "output_type": "execute_result"
    }
   ],
   "source": [
    "allstates = pd.concat(all_list,axis = 0 , ignore_index = True,sort = False)\n",
    "allstates.head()"
   ]
  },
  {
   "cell_type": "markdown",
   "metadata": {},
   "source": [
    "##### Filtering out the union territories (Delhi, Chandigarh, Andaman and Nicobar Islands, etc.) for further analysis, as they are governed directly by the central, not state governments."
   ]
  },
  {
   "cell_type": "code",
   "execution_count": 48,
   "metadata": {},
   "outputs": [],
   "source": [
    "allstates = allstates[ ~ allstates['State'].isin(unionterr)]"
   ]
  },
  {
   "cell_type": "code",
   "execution_count": 49,
   "metadata": {},
   "outputs": [
    {
     "data": {
      "text/plain": [
       "Index(['Agriculture, forestry and fishing', 'Crops', 'Livestock',\n",
       "       'Forestry and logging', 'Fishing and aquaculture',\n",
       "       'Mining and quarrying', 'Primary', 'Manufacturing',\n",
       "       'Electricity, gas, water supply & other utility services',\n",
       "       'Construction', 'Secondary', 'Trade, repair, hotels and restaurants',\n",
       "       'Trade & repair services', 'Hotels & restaurants',\n",
       "       'Transport, storage, communication & services related to broadcasting',\n",
       "       'Railways', 'Road transport', 'Water transport', 'Air transport',\n",
       "       'Services incidental to transport', 'Storage',\n",
       "       'Communication & services related to broadcasting',\n",
       "       'Financial services',\n",
       "       'Real estate, ownership of dwelling & professional services',\n",
       "       'Public administration', 'Other services', 'Tertiary',\n",
       "       'TOTAL GSVA at basic prices', 'Taxes on Products',\n",
       "       'Subsidies on products', 'Gross State Domestic Product',\n",
       "       'Population ('00)', 'Per Capita GSDP (Rs.)', 'State'],\n",
       "      dtype='object', name='Item')"
      ]
     },
     "execution_count": 49,
     "metadata": {},
     "output_type": "execute_result"
    }
   ],
   "source": [
    "# Setting index of the dataframe as the names of the state\n",
    "\n",
    "allstates = allstates.set_index(allstates['State'])\n",
    "allstates.columns\n"
   ]
  },
  {
   "cell_type": "markdown",
   "metadata": {},
   "source": [
    "### `Plotting GDP Per Capita for all States`"
   ]
  },
  {
   "cell_type": "code",
   "execution_count": 50,
   "metadata": {},
   "outputs": [],
   "source": [
    "gdp_pc = allstates['Per Capita GSDP (Rs.)'].sort_values(ascending = False) #sorting in descending order"
   ]
  },
  {
   "cell_type": "code",
   "execution_count": 51,
   "metadata": {},
   "outputs": [
    {
     "data": {
      "image/png": "[encoded data removed]",
      "text/plain": [
       "<Figure size 720x720 with 1 Axes>"
      ]
     },
     "metadata": {
      "needs_background": "light"
     },
     "output_type": "display_data"
    }
   ],
   "source": [
    "plt.figure(figsize =(10,10))\n",
    "sns.barplot(x = gdp_pc, y = gdp_pc.index)\n",
    "plt.xlabel('Per Capita Gsdp')\n",
    "plt.title('Per Capita GDP for Each State for the year 2014-15')\n",
    "plt.tight_layout()\n"
   ]
  },
  {
   "cell_type": "markdown",
   "metadata": {},
   "source": [
    "### TOP  5 STATES BASED ON GDP PER CAPITA"
   ]
  },
  {
   "cell_type": "code",
   "execution_count": 52,
   "metadata": {},
   "outputs": [
    {
     "data": {
      "text/html": [
       "<div>\n",
       "<style scoped>\n",
       "    .dataframe tbody tr th:only-of-type {\n",
       "        vertical-align: middle;\n",
       "    }\n",
       "\n",
       "    .dataframe tbody tr th {\n",
       "        vertical-align: top;\n",
       "    }\n",
       "\n",
       "    .dataframe thead th {\n",
       "        text-align: right;\n",
       "    }\n",
       "</style>\n",
       "<table border=\"1\" class=\"dataframe\">\n",
       "  <thead>\n",
       "    <tr style=\"text-align: right;\">\n",
       "      <th></th>\n",
       "      <th>Per Capita GSDP (Rs.)</th>\n",
       "    </tr>\n",
       "    <tr>\n",
       "      <th>State</th>\n",
       "      <th></th>\n",
       "    </tr>\n",
       "  </thead>\n",
       "  <tbody>\n",
       "    <tr>\n",
       "      <th>Goa</th>\n",
       "      <td>271793</td>\n",
       "    </tr>\n",
       "    <tr>\n",
       "      <th>Sikkim</th>\n",
       "      <td>240274</td>\n",
       "    </tr>\n",
       "    <tr>\n",
       "      <th>Haryana</th>\n",
       "      <td>164077</td>\n",
       "    </tr>\n",
       "    <tr>\n",
       "      <th>Kerala</th>\n",
       "      <td>154778</td>\n",
       "    </tr>\n",
       "    <tr>\n",
       "      <th>Uttarakhand</th>\n",
       "      <td>153076</td>\n",
       "    </tr>\n",
       "  </tbody>\n",
       "</table>\n",
       "</div>"
      ],
      "text/plain": [
       "            Per Capita GSDP (Rs.)\n",
       "State                            \n",
       "Goa                        271793\n",
       "Sikkim                     240274\n",
       "Haryana                    164077\n",
       "Kerala                     154778\n",
       "Uttarakhand                153076"
      ]
     },
     "execution_count": 52,
     "metadata": {},
     "output_type": "execute_result"
    }
   ],
   "source": [
    "gdp_pc[:5].to_frame()"
   ]
  },
  {
   "cell_type": "markdown",
   "metadata": {},
   "source": [
    "###  BOTTOM 5 STATES BASED ON GDP PER CAPITA"
   ]
  },
  {
   "cell_type": "code",
   "execution_count": 53,
   "metadata": {},
   "outputs": [
    {
     "data": {
      "text/html": [
       "<div>\n",
       "<style scoped>\n",
       "    .dataframe tbody tr th:only-of-type {\n",
       "        vertical-align: middle;\n",
       "    }\n",
       "\n",
       "    .dataframe tbody tr th {\n",
       "        vertical-align: top;\n",
       "    }\n",
       "\n",
       "    .dataframe thead th {\n",
       "        text-align: right;\n",
       "    }\n",
       "</style>\n",
       "<table border=\"1\" class=\"dataframe\">\n",
       "  <thead>\n",
       "    <tr style=\"text-align: right;\">\n",
       "      <th></th>\n",
       "      <th>Per Capita GSDP (Rs.)</th>\n",
       "    </tr>\n",
       "    <tr>\n",
       "      <th>State</th>\n",
       "      <th></th>\n",
       "    </tr>\n",
       "  </thead>\n",
       "  <tbody>\n",
       "    <tr>\n",
       "      <th>Bihar</th>\n",
       "      <td>33954</td>\n",
       "    </tr>\n",
       "    <tr>\n",
       "      <th>Uttar_Pradesh</th>\n",
       "      <td>49450</td>\n",
       "    </tr>\n",
       "    <tr>\n",
       "      <th>Manipur</th>\n",
       "      <td>58442</td>\n",
       "    </tr>\n",
       "    <tr>\n",
       "      <th>Assam</th>\n",
       "      <td>60621</td>\n",
       "    </tr>\n",
       "    <tr>\n",
       "      <th>Jharkhand</th>\n",
       "      <td>62091</td>\n",
       "    </tr>\n",
       "  </tbody>\n",
       "</table>\n",
       "</div>"
      ],
      "text/plain": [
       "              Per Capita GSDP (Rs.)\n",
       "State                              \n",
       "Bihar                         33954\n",
       "Uttar_Pradesh                 49450\n",
       "Manipur                       58442\n",
       "Assam                         60621\n",
       "Jharkhand                     62091"
      ]
     },
     "execution_count": 53,
     "metadata": {},
     "output_type": "execute_result"
    }
   ],
   "source": [
    "gdp_pc[-5:].sort_values().to_frame()"
   ]
  },
  {
   "cell_type": "markdown",
   "metadata": {},
   "source": [
    "### Ratio of Highest per capita Gdp to the lowest per capita Gdp ( Ratio b/w Gdp of Goa and Bihar)"
   ]
  },
  {
   "cell_type": "code",
   "execution_count": 54,
   "metadata": {},
   "outputs": [
    {
     "data": {
      "text/plain": [
       "8.0047"
      ]
     },
     "execution_count": 54,
     "metadata": {},
     "output_type": "execute_result"
    }
   ],
   "source": [
    "round(gdp_pc.max()/gdp_pc.min(),4)"
   ]
  },
  {
   "cell_type": "markdown",
   "metadata": {},
   "source": [
    "### Plot the percentage contribution of the primary, secondary and tertiary sectors as a percentage of the total GDP for all the states.\n"
   ]
  },
  {
   "cell_type": "markdown",
   "metadata": {},
   "source": [
    "#### For this lets filter only the columns that we require"
   ]
  },
  {
   "cell_type": "code",
   "execution_count": 55,
   "metadata": {},
   "outputs": [],
   "source": [
    "sector_df = allstates[['Primary','Secondary','Tertiary','Per Capita GSDP (Rs.)','Gross State Domestic Product']]"
   ]
  },
  {
   "cell_type": "markdown",
   "metadata": {},
   "source": [
    "#### Lets add 3 new columns which contains % contirbution of Primary,Secondary and Tertiary sector of the total Gdp"
   ]
  },
  {
   "cell_type": "code",
   "execution_count": 56,
   "metadata": {},
   "outputs": [
    {
     "name": "stderr",
     "output_type": "stream",
     "text": [
      "//anaconda3/lib/python3.7/site-packages/ipykernel_launcher.py:1: SettingWithCopyWarning: \n",
      "A value is trying to be set on a copy of a slice from a DataFrame.\n",
      "Try using .loc[row_indexer,col_indexer] = value instead\n",
      "\n",
      "See the caveats in the documentation: http://pandas.pydata.org/pandas-docs/stable/user_guide/indexing.html#returning-a-view-versus-a-copy\n",
      "  \"\"\"Entry point for launching an IPython kernel.\n",
      "//anaconda3/lib/python3.7/site-packages/ipykernel_launcher.py:2: SettingWithCopyWarning: \n",
      "A value is trying to be set on a copy of a slice from a DataFrame.\n",
      "Try using .loc[row_indexer,col_indexer] = value instead\n",
      "\n",
      "See the caveats in the documentation: http://pandas.pydata.org/pandas-docs/stable/user_guide/indexing.html#returning-a-view-versus-a-copy\n",
      "  \n",
      "//anaconda3/lib/python3.7/site-packages/ipykernel_launcher.py:3: SettingWithCopyWarning: \n",
      "A value is trying to be set on a copy of a slice from a DataFrame.\n",
      "Try using .loc[row_indexer,col_indexer] = value instead\n",
      "\n",
      "See the caveats in the documentation: http://pandas.pydata.org/pandas-docs/stable/user_guide/indexing.html#returning-a-view-versus-a-copy\n",
      "  This is separate from the ipykernel package so we can avoid doing imports until\n"
     ]
    }
   ],
   "source": [
    "sector_df['Primary_%'] = 100*(sector_df['Primary']/sector_df['Gross State Domestic Product'])\n",
    "sector_df['Secondary_%'] = 100*(sector_df['Secondary']/sector_df['Gross State Domestic Product'])\n",
    "sector_df['Tertiary_%'] = 100*(sector_df['Tertiary']/sector_df['Gross State Domestic Product'])\n",
    "import warnings\n",
    "warnings.filterwarnings(\"ignore\")"
   ]
  },
  {
   "cell_type": "markdown",
   "metadata": {},
   "source": [
    "### Lets check the some of percentages of sectors to the total GDP"
   ]
  },
  {
   "cell_type": "code",
   "execution_count": 57,
   "metadata": {},
   "outputs": [],
   "source": [
    "sector_df['sum'] = sector_df['Primary_%'] + sector_df['Secondary_%'] + sector_df['Tertiary_%']"
   ]
  },
  {
   "cell_type": "code",
   "execution_count": 58,
   "metadata": {},
   "outputs": [
    {
     "data": {
      "text/plain": [
       "State\n",
       "Rajasthan            94.9999\n",
       "Telangana             92.979\n",
       "Odisha               93.9689\n",
       "Assam                94.2306\n",
       "Bihar                96.7717\n",
       "Nagaland             98.9177\n",
       "Goa                  88.5457\n",
       "Kerala               91.6978\n",
       "Madhya_Pradesh       95.4731\n",
       "Mizoram              98.0411\n",
       "Chhattisgarh         94.5966\n",
       "Arunachal_Pradesh    97.6239\n",
       "Manipur              98.6904\n",
       "Tripura              98.1345\n",
       "Meghalaya             93.807\n",
       "Punjab               92.1679\n",
       "Haryana              91.0442\n",
       "Uttar_Pradesh        93.4633\n",
       "Andhra_Pradesh       92.7416\n",
       "Tamil_Nadu           91.0843\n",
       "Sikkim               96.4626\n",
       "Uttarakhand          93.0752\n",
       "Karnataka            90.0872\n",
       "Gujarat              88.4119\n",
       "Maharashtra          88.0714\n",
       "Himachal_Pradesh      93.906\n",
       "Jharkhand            90.3847\n",
       "Name: sum, dtype: object"
      ]
     },
     "execution_count": 58,
     "metadata": {},
     "output_type": "execute_result"
    }
   ],
   "source": [
    "sector_df['sum']"
   ]
  },
  {
   "cell_type": "markdown",
   "metadata": {},
   "source": [
    "### Why is (Primary + Secondary + Tertiary) not equal to total GDP?\n",
    "\n",
    "### If Primary + Secondary + Tertiary is equal to total GDP then percentages of shares of 3 sectors in Gdp should be 100%. This is not the case. \n",
    "\n",
    "## GSVA = (Primary + Secondary + Tertiary)      i.e  (GROSS VALUE ADDED)\n",
    "## GSDP = GSVA  + TAXES + SUBSIDIES"
   ]
  },
  {
   "cell_type": "code",
   "execution_count": 59,
   "metadata": {},
   "outputs": [
    {
     "data": {
      "text/plain": [
       "Text(0.5, 1, 'Percentage contribution of the primary, secondary and tertiary sectors as a percentage of the total GDP for all the states.')"
      ]
     },
     "execution_count": 59,
     "metadata": {},
     "output_type": "execute_result"
    },
    {
     "data": {
      "text/plain": [
       "<Figure size 720x72 with 0 Axes>"
      ]
     },
     "metadata": {},
     "output_type": "display_data"
    },
    {
     "data": {
      "image/png": "[encoded data removed]",
      "text/plain": [
       "<Figure size 1080x360 with 1 Axes>"
      ]
     },
     "metadata": {
      "needs_background": "light"
     },
     "output_type": "display_data"
    }
   ],
   "source": [
    "# Plotting the % contribution of each sector of various states \n",
    "\n",
    "plt.figure(figsize = (10,1))\n",
    "sector_df.plot(kind = 'barh', y = ['Primary_%','Secondary_%','Tertiary_%'],figsize = (15,5),width = 0.8,stacked = True)\n",
    "plt.legend(['Primary','Secondary','Tertiary'])\n",
    "plt.tight_layout()\n",
    "plt.title('Percentage contribution of the primary, secondary and tertiary sectors as a percentage of the total GDP for all the states.')\n"
   ]
  },
  {
   "cell_type": "markdown",
   "metadata": {},
   "source": [
    "### The above subdivided bar diagram is used to visually compare the % contribution of any sector between various states whereas the below multiple bar diagram is used to compare the contribution of sectors across states INDIVIDUALLY . The overall goal of this project is to help the CMs focus on areas that will foster economic development for their respective states multiple bar diagram will be more comprehensive form of visualization\n",
    "\n",
    "#### `Note: We cannot use pie diagram as total is not equal to 100%`"
   ]
  },
  {
   "cell_type": "code",
   "execution_count": 60,
   "metadata": {},
   "outputs": [
    {
     "data": {
      "text/plain": [
       "Text(0.5, 1, 'Percentage contribution of the primary, secondary and tertiary sectors as a percentage of the total GDP for all the states.')"
      ]
     },
     "execution_count": 60,
     "metadata": {},
     "output_type": "execute_result"
    },
    {
     "data": {
      "text/plain": [
       "<Figure size 1440x720 with 0 Axes>"
      ]
     },
     "metadata": {},
     "output_type": "display_data"
    },
    {
     "data": {
      "image/png": "[encoded data removed]",
      "text/plain": [
       "<Figure size 1440x576 with 1 Axes>"
      ]
     },
     "metadata": {
      "needs_background": "light"
     },
     "output_type": "display_data"
    }
   ],
   "source": [
    "plt.figure(figsize = (20,10))\n",
    "sector_df.plot(kind = 'bar', y = ['Primary_%','Secondary_%','Tertiary_%'],figsize = (20,8),width = 0.8,stacked = False)\n",
    "plt.legend(['Primary','Secondary','Tertiary'])\n",
    "plt.tight_layout()\n",
    "plt.title('Percentage contribution of the primary, secondary and tertiary sectors as a percentage of the total GDP for all the states.')\n"
   ]
  },
  {
   "cell_type": "markdown",
   "metadata": {},
   "source": [
    "###  Can you draw any insight from this? Find correlation of percentile of the state (% of states with lower per capita GDP) and %contribution of Primary sector to total GDP."
   ]
  },
  {
   "cell_type": "markdown",
   "metadata": {},
   "source": [
    "### Calculating percentile using qcut because if we use rank(pct = True) we get 100Th percentile which is not practically possible"
   ]
  },
  {
   "cell_type": "code",
   "execution_count": 61,
   "metadata": {},
   "outputs": [
    {
     "data": {
      "text/plain": [
       "State\n",
       "Rajasthan            34\n",
       "Telangana            61\n",
       "Odisha               23\n",
       "Assam                11\n",
       "Bihar                 0\n",
       "Nagaland             42\n",
       "Goa                  99\n",
       "Kerala               88\n",
       "Madhya_Pradesh       19\n",
       "Mizoram              46\n",
       "Chhattisgarh         38\n",
       "Arunachal_Pradesh    53\n",
       "Manipur               7\n",
       "Tripura              30\n",
       "Meghalaya            26\n",
       "Punjab               57\n",
       "Haryana              92\n",
       "Uttar_Pradesh         3\n",
       "Andhra_Pradesh       49\n",
       "Tamil_Nadu           73\n",
       "Sikkim               96\n",
       "Uttarakhand          84\n",
       "Karnataka            69\n",
       "Gujarat              65\n",
       "Maharashtra          80\n",
       "Himachal_Pradesh     76\n",
       "Jharkhand            15\n",
       "Name: Percentile, dtype: int64"
      ]
     },
     "execution_count": 61,
     "metadata": {},
     "output_type": "execute_result"
    }
   ],
   "source": [
    "#using qcut\n",
    "sector_df['Percentile'] = pd.qcut(sector_df['Per Capita GSDP (Rs.)'],100,labels = False)\n",
    "sector_df['Percentile']"
   ]
  },
  {
   "cell_type": "code",
   "execution_count": 62,
   "metadata": {},
   "outputs": [],
   "source": [
    "sector_df['Primary_%'] = sector_df['Primary_%'].astype('float64') #converting datatype of a column from object to float"
   ]
  },
  {
   "cell_type": "code",
   "execution_count": 63,
   "metadata": {},
   "outputs": [
    {
     "data": {
      "text/plain": [
       "<matplotlib.axes._subplots.AxesSubplot at 0x7ffde8bd1d30>"
      ]
     },
     "execution_count": 63,
     "metadata": {},
     "output_type": "execute_result"
    },
    {
     "data": {
      "image/png": "[encoded data removed]",
      "text/plain": [
       "<Figure size 432x288 with 1 Axes>"
      ]
     },
     "metadata": {
      "needs_background": "light"
     },
     "output_type": "display_data"
    }
   ],
   "source": [
    "# looking at the distribution of Per Capita Gsdp\n",
    "sns.boxplot(sector_df['Per Capita GSDP (Rs.)'])"
   ]
  },
  {
   "cell_type": "markdown",
   "metadata": {},
   "source": [
    "### 'Correlation of percentile of the state (for all states) and %contribution of Primary sector to total GDP'"
   ]
  },
  {
   "cell_type": "code",
   "execution_count": 64,
   "metadata": {},
   "outputs": [
    {
     "name": "stdout",
     "output_type": "stream",
     "text": [
      "-0.6212972345159458\n"
     ]
    }
   ],
   "source": [
    "\n",
    "print(sector_df['Primary_%'].corr(sector_df['Percentile']))\n"
   ]
  },
  {
   "cell_type": "markdown",
   "metadata": {},
   "source": [
    "### Correlation of percentile of the state (below 50th percentile) and %contribution of Primary sector to total GDP."
   ]
  },
  {
   "cell_type": "code",
   "execution_count": 65,
   "metadata": {},
   "outputs": [
    {
     "data": {
      "text/plain": [
       "0.30882873266755045"
      ]
     },
     "execution_count": 65,
     "metadata": {},
     "output_type": "execute_result"
    }
   ],
   "source": [
    "#below median(50th percentile) and first quartile(below 25th percentile)\n",
    "below_50 = sector_df[sector_df['Percentile'] < 50]\n",
    "below_50['Primary_%'].corr(below_50['Percentile'])"
   ]
  },
  {
   "cell_type": "markdown",
   "metadata": {},
   "source": [
    "### Correlation of percentile of the state (below first quartile) and %contribution of Primary sector to total GDP."
   ]
  },
  {
   "cell_type": "code",
   "execution_count": 66,
   "metadata": {},
   "outputs": [
    {
     "data": {
      "text/plain": [
       "0.6703506224418162"
      ]
     },
     "execution_count": 66,
     "metadata": {},
     "output_type": "execute_result"
    }
   ],
   "source": [
    "below_25 = sector_df[sector_df['Percentile'] < 25]\n",
    "below_25['Primary_%'].corr(below_25['Percentile'])"
   ]
  },
  {
   "cell_type": "markdown",
   "metadata": {},
   "source": [
    "## We can observe that there is higher positive corelation between states with lower per Capita Gsdp and their % contribution of Primary sector to total GDP"
   ]
  },
  {
   "cell_type": "markdown",
   "metadata": {},
   "source": [
    "### Categorizing the states into four groups based on the GDP per capita (C1, C2, C3, C4, where C1 would have the highest per capita GDP and C4, the lowest). The states lying between the 85th and the 100th percentile are in C1; those between the 50th and the 85th percentiles are in C2, and so on."
   ]
  },
  {
   "cell_type": "code",
   "execution_count": 67,
   "metadata": {},
   "outputs": [],
   "source": [
    "# creating a function where it returns C1 if 'perc' is between 85 and 100 ,and so on\n",
    "def cat(perc):\n",
    "    if perc >= 85:\n",
    "        return 'C1'\n",
    "    elif (perc >= 50) & (perc < 85):\n",
    "        return 'C2'\n",
    "    elif (perc >= 20) & (perc <50):\n",
    "        return 'C3'\n",
    "    else:\n",
    "        return 'C4'\n",
    "    \n",
    "            "
   ]
  },
  {
   "cell_type": "code",
   "execution_count": 68,
   "metadata": {},
   "outputs": [],
   "source": [
    "#applying the above function on the dataframe to create a new DERIVED column\n",
    "sector_df['Category'] = sector_df['Percentile'].apply(cat)"
   ]
  },
  {
   "cell_type": "code",
   "execution_count": 69,
   "metadata": {},
   "outputs": [],
   "source": [
    "# copying the same column on another dataframe (i.e for future reference)\n",
    "allstates['Category'] = sector_df['Category']"
   ]
  },
  {
   "cell_type": "code",
   "execution_count": 70,
   "metadata": {},
   "outputs": [],
   "source": [
    "#making a list of all subsectors\n",
    "subsectors = ['Agriculture, forestry and fishing','Mining and quarrying','Manufacturing','Electricity, gas, water supply & other utility services','Construction','Trade, repair, hotels and restaurants','Transport, storage, communication & services related to broadcasting','Financial services','Real estate, ownership of dwelling & professional services','Public administration','Other services','Gross State Domestic Product','Category']"
   ]
  },
  {
   "cell_type": "code",
   "execution_count": 71,
   "metadata": {},
   "outputs": [
    {
     "data": {
      "text/html": [
       "<div>\n",
       "<style scoped>\n",
       "    .dataframe tbody tr th:only-of-type {\n",
       "        vertical-align: middle;\n",
       "    }\n",
       "\n",
       "    .dataframe tbody tr th {\n",
       "        vertical-align: top;\n",
       "    }\n",
       "\n",
       "    .dataframe thead th {\n",
       "        text-align: right;\n",
       "    }\n",
       "</style>\n",
       "<table border=\"1\" class=\"dataframe\">\n",
       "  <thead>\n",
       "    <tr style=\"text-align: right;\">\n",
       "      <th>Item</th>\n",
       "      <th>Agriculture, forestry and fishing</th>\n",
       "      <th>Mining and quarrying</th>\n",
       "      <th>Manufacturing</th>\n",
       "      <th>Electricity, gas, water supply &amp; other utility services</th>\n",
       "      <th>Construction</th>\n",
       "      <th>Trade, repair, hotels and restaurants</th>\n",
       "      <th>Transport, storage, communication &amp; services related to broadcasting</th>\n",
       "      <th>Financial services</th>\n",
       "      <th>Real estate, ownership of dwelling &amp; professional services</th>\n",
       "      <th>Public administration</th>\n",
       "      <th>Other services</th>\n",
       "      <th>Gross State Domestic Product</th>\n",
       "    </tr>\n",
       "    <tr>\n",
       "      <th>Category</th>\n",
       "      <th></th>\n",
       "      <th></th>\n",
       "      <th></th>\n",
       "      <th></th>\n",
       "      <th></th>\n",
       "      <th></th>\n",
       "      <th></th>\n",
       "      <th></th>\n",
       "      <th></th>\n",
       "      <th></th>\n",
       "      <th></th>\n",
       "      <th></th>\n",
       "    </tr>\n",
       "  </thead>\n",
       "  <tbody>\n",
       "    <tr>\n",
       "      <th>C1</th>\n",
       "      <td>14391809.0</td>\n",
       "      <td>588961.0</td>\n",
       "      <td>13758793.0</td>\n",
       "      <td>2000998.0</td>\n",
       "      <td>11264451.0</td>\n",
       "      <td>13995159.0</td>\n",
       "      <td>6818560.0</td>\n",
       "      <td>3936489.0</td>\n",
       "      <td>14740245.0</td>\n",
       "      <td>3571292.0</td>\n",
       "      <td>8059922.0</td>\n",
       "      <td>101930677.0</td>\n",
       "    </tr>\n",
       "    <tr>\n",
       "      <th>C2</th>\n",
       "      <td>75209022.0</td>\n",
       "      <td>10373346.0</td>\n",
       "      <td>109196530.0</td>\n",
       "      <td>13823378.0</td>\n",
       "      <td>40653562.0</td>\n",
       "      <td>61238862.0</td>\n",
       "      <td>33749808.0</td>\n",
       "      <td>36296642.0</td>\n",
       "      <td>92121446.0</td>\n",
       "      <td>18567815.0</td>\n",
       "      <td>36253657.0</td>\n",
       "      <td>586380452.0</td>\n",
       "    </tr>\n",
       "    <tr>\n",
       "      <th>C3</th>\n",
       "      <td>42226888.0</td>\n",
       "      <td>10835771.0</td>\n",
       "      <td>22038331.0</td>\n",
       "      <td>4604774.0</td>\n",
       "      <td>15707921.0</td>\n",
       "      <td>17245309.0</td>\n",
       "      <td>12231484.0</td>\n",
       "      <td>5766226.0</td>\n",
       "      <td>16224118.0</td>\n",
       "      <td>7927173.0</td>\n",
       "      <td>12815417.0</td>\n",
       "      <td>177966387.0</td>\n",
       "    </tr>\n",
       "    <tr>\n",
       "      <th>C4</th>\n",
       "      <td>56735044.0</td>\n",
       "      <td>6096419.0</td>\n",
       "      <td>24987032.0</td>\n",
       "      <td>4310264.0</td>\n",
       "      <td>22775948.0</td>\n",
       "      <td>27484595.0</td>\n",
       "      <td>16191800.0</td>\n",
       "      <td>7684498.0</td>\n",
       "      <td>24177534.0</td>\n",
       "      <td>13486630.0</td>\n",
       "      <td>15859015.0</td>\n",
       "      <td>233252066.0</td>\n",
       "    </tr>\n",
       "  </tbody>\n",
       "</table>\n",
       "</div>"
      ],
      "text/plain": [
       "Item      Agriculture, forestry and fishing  Mining and quarrying  \\\n",
       "Category                                                            \n",
       "C1                               14391809.0              588961.0   \n",
       "C2                               75209022.0            10373346.0   \n",
       "C3                               42226888.0            10835771.0   \n",
       "C4                               56735044.0             6096419.0   \n",
       "\n",
       "Item      Manufacturing  \\\n",
       "Category                  \n",
       "C1           13758793.0   \n",
       "C2          109196530.0   \n",
       "C3           22038331.0   \n",
       "C4           24987032.0   \n",
       "\n",
       "Item      Electricity, gas, water supply & other utility services  \\\n",
       "Category                                                            \n",
       "C1                                                2000998.0         \n",
       "C2                                               13823378.0         \n",
       "C3                                                4604774.0         \n",
       "C4                                                4310264.0         \n",
       "\n",
       "Item      Construction  Trade, repair, hotels and restaurants  \\\n",
       "Category                                                        \n",
       "C1          11264451.0                             13995159.0   \n",
       "C2          40653562.0                             61238862.0   \n",
       "C3          15707921.0                             17245309.0   \n",
       "C4          22775948.0                             27484595.0   \n",
       "\n",
       "Item      Transport, storage, communication & services related to broadcasting  \\\n",
       "Category                                                                         \n",
       "C1                                                6818560.0                      \n",
       "C2                                               33749808.0                      \n",
       "C3                                               12231484.0                      \n",
       "C4                                               16191800.0                      \n",
       "\n",
       "Item      Financial services  \\\n",
       "Category                       \n",
       "C1                 3936489.0   \n",
       "C2                36296642.0   \n",
       "C3                 5766226.0   \n",
       "C4                 7684498.0   \n",
       "\n",
       "Item      Real estate, ownership of dwelling & professional services  \\\n",
       "Category                                                               \n",
       "C1                                               14740245.0            \n",
       "C2                                               92121446.0            \n",
       "C3                                               16224118.0            \n",
       "C4                                               24177534.0            \n",
       "\n",
       "Item      Public administration  Other services  Gross State Domestic Product  \n",
       "Category                                                                       \n",
       "C1                    3571292.0       8059922.0                   101930677.0  \n",
       "C2                   18567815.0      36253657.0                   586380452.0  \n",
       "C3                    7927173.0      12815417.0                   177966387.0  \n",
       "C4                   13486630.0      15859015.0                   233252066.0  "
      ]
     },
     "execution_count": 71,
     "metadata": {},
     "output_type": "execute_result"
    }
   ],
   "source": [
    "# Categorizing the states into four groups based on the GDP per capita and filtering only the subsectors\n",
    "categorical_df = allstates[subsectors].groupby('Category').sum()\n",
    "categorical_df    \n",
    " \n",
    "    \n",
    "        "
   ]
  },
  {
   "cell_type": "markdown",
   "metadata": {},
   "source": [
    "### Looping on column header of categorical_df to create new columns (i.e % contribution of each sub sector on GSDP)"
   ]
  },
  {
   "cell_type": "code",
   "execution_count": 72,
   "metadata": {},
   "outputs": [
    {
     "data": {
      "text/html": [
       "<div>\n",
       "<style scoped>\n",
       "    .dataframe tbody tr th:only-of-type {\n",
       "        vertical-align: middle;\n",
       "    }\n",
       "\n",
       "    .dataframe tbody tr th {\n",
       "        vertical-align: top;\n",
       "    }\n",
       "\n",
       "    .dataframe thead th {\n",
       "        text-align: right;\n",
       "    }\n",
       "</style>\n",
       "<table border=\"1\" class=\"dataframe\">\n",
       "  <thead>\n",
       "    <tr style=\"text-align: right;\">\n",
       "      <th>Item</th>\n",
       "      <th>Agriculture, forestry and fishing</th>\n",
       "      <th>Mining and quarrying</th>\n",
       "      <th>Manufacturing</th>\n",
       "      <th>Electricity, gas, water supply &amp; other utility services</th>\n",
       "      <th>Construction</th>\n",
       "      <th>Trade, repair, hotels and restaurants</th>\n",
       "      <th>Transport, storage, communication &amp; services related to broadcasting</th>\n",
       "      <th>Financial services</th>\n",
       "      <th>Real estate, ownership of dwelling &amp; professional services</th>\n",
       "      <th>Public administration</th>\n",
       "      <th>...</th>\n",
       "      <th>Manufacturing_%ofGSDP</th>\n",
       "      <th>Electricity, gas, water supply &amp; other utility services_%ofGSDP</th>\n",
       "      <th>Construction_%ofGSDP</th>\n",
       "      <th>Trade, repair, hotels and restaurants_%ofGSDP</th>\n",
       "      <th>Transport, storage, communication &amp; services related to broadcasting_%ofGSDP</th>\n",
       "      <th>Financial services_%ofGSDP</th>\n",
       "      <th>Real estate, ownership of dwelling &amp; professional services_%ofGSDP</th>\n",
       "      <th>Public administration_%ofGSDP</th>\n",
       "      <th>Other services_%ofGSDP</th>\n",
       "      <th>Gross State Domestic Product_%ofGSDP</th>\n",
       "    </tr>\n",
       "    <tr>\n",
       "      <th>Category</th>\n",
       "      <th></th>\n",
       "      <th></th>\n",
       "      <th></th>\n",
       "      <th></th>\n",
       "      <th></th>\n",
       "      <th></th>\n",
       "      <th></th>\n",
       "      <th></th>\n",
       "      <th></th>\n",
       "      <th></th>\n",
       "      <th></th>\n",
       "      <th></th>\n",
       "      <th></th>\n",
       "      <th></th>\n",
       "      <th></th>\n",
       "      <th></th>\n",
       "      <th></th>\n",
       "      <th></th>\n",
       "      <th></th>\n",
       "      <th></th>\n",
       "      <th></th>\n",
       "    </tr>\n",
       "  </thead>\n",
       "  <tbody>\n",
       "    <tr>\n",
       "      <th>C1</th>\n",
       "      <td>14391809.0</td>\n",
       "      <td>588961.0</td>\n",
       "      <td>13758793.0</td>\n",
       "      <td>2000998.0</td>\n",
       "      <td>11264451.0</td>\n",
       "      <td>13995159.0</td>\n",
       "      <td>6818560.0</td>\n",
       "      <td>3936489.0</td>\n",
       "      <td>14740245.0</td>\n",
       "      <td>3571292.0</td>\n",
       "      <td>...</td>\n",
       "      <td>13.498187</td>\n",
       "      <td>1.963097</td>\n",
       "      <td>11.051090</td>\n",
       "      <td>13.730076</td>\n",
       "      <td>6.689409</td>\n",
       "      <td>3.861928</td>\n",
       "      <td>14.461049</td>\n",
       "      <td>3.503648</td>\n",
       "      <td>7.907258</td>\n",
       "      <td>100.0</td>\n",
       "    </tr>\n",
       "    <tr>\n",
       "      <th>C2</th>\n",
       "      <td>75209022.0</td>\n",
       "      <td>10373346.0</td>\n",
       "      <td>109196530.0</td>\n",
       "      <td>13823378.0</td>\n",
       "      <td>40653562.0</td>\n",
       "      <td>61238862.0</td>\n",
       "      <td>33749808.0</td>\n",
       "      <td>36296642.0</td>\n",
       "      <td>92121446.0</td>\n",
       "      <td>18567815.0</td>\n",
       "      <td>...</td>\n",
       "      <td>18.622130</td>\n",
       "      <td>2.357408</td>\n",
       "      <td>6.932967</td>\n",
       "      <td>10.443537</td>\n",
       "      <td>5.755616</td>\n",
       "      <td>6.189947</td>\n",
       "      <td>15.710184</td>\n",
       "      <td>3.166513</td>\n",
       "      <td>6.182617</td>\n",
       "      <td>100.0</td>\n",
       "    </tr>\n",
       "    <tr>\n",
       "      <th>C3</th>\n",
       "      <td>42226888.0</td>\n",
       "      <td>10835771.0</td>\n",
       "      <td>22038331.0</td>\n",
       "      <td>4604774.0</td>\n",
       "      <td>15707921.0</td>\n",
       "      <td>17245309.0</td>\n",
       "      <td>12231484.0</td>\n",
       "      <td>5766226.0</td>\n",
       "      <td>16224118.0</td>\n",
       "      <td>7927173.0</td>\n",
       "      <td>...</td>\n",
       "      <td>12.383423</td>\n",
       "      <td>2.587440</td>\n",
       "      <td>8.826341</td>\n",
       "      <td>9.690206</td>\n",
       "      <td>6.872918</td>\n",
       "      <td>3.240065</td>\n",
       "      <td>9.116395</td>\n",
       "      <td>4.454309</td>\n",
       "      <td>7.201032</td>\n",
       "      <td>100.0</td>\n",
       "    </tr>\n",
       "    <tr>\n",
       "      <th>C4</th>\n",
       "      <td>56735044.0</td>\n",
       "      <td>6096419.0</td>\n",
       "      <td>24987032.0</td>\n",
       "      <td>4310264.0</td>\n",
       "      <td>22775948.0</td>\n",
       "      <td>27484595.0</td>\n",
       "      <td>16191800.0</td>\n",
       "      <td>7684498.0</td>\n",
       "      <td>24177534.0</td>\n",
       "      <td>13486630.0</td>\n",
       "      <td>...</td>\n",
       "      <td>10.712459</td>\n",
       "      <td>1.847900</td>\n",
       "      <td>9.764521</td>\n",
       "      <td>11.783216</td>\n",
       "      <td>6.941761</td>\n",
       "      <td>3.294504</td>\n",
       "      <td>10.365410</td>\n",
       "      <td>5.781998</td>\n",
       "      <td>6.799089</td>\n",
       "      <td>100.0</td>\n",
       "    </tr>\n",
       "  </tbody>\n",
       "</table>\n",
       "<p>4 rows × 24 columns</p>\n",
       "</div>"
      ],
      "text/plain": [
       "Item      Agriculture, forestry and fishing  Mining and quarrying  \\\n",
       "Category                                                            \n",
       "C1                               14391809.0              588961.0   \n",
       "C2                               75209022.0            10373346.0   \n",
       "C3                               42226888.0            10835771.0   \n",
       "C4                               56735044.0             6096419.0   \n",
       "\n",
       "Item      Manufacturing  \\\n",
       "Category                  \n",
       "C1           13758793.0   \n",
       "C2          109196530.0   \n",
       "C3           22038331.0   \n",
       "C4           24987032.0   \n",
       "\n",
       "Item      Electricity, gas, water supply & other utility services  \\\n",
       "Category                                                            \n",
       "C1                                                2000998.0         \n",
       "C2                                               13823378.0         \n",
       "C3                                                4604774.0         \n",
       "C4                                                4310264.0         \n",
       "\n",
       "Item      Construction  Trade, repair, hotels and restaurants  \\\n",
       "Category                                                        \n",
       "C1          11264451.0                             13995159.0   \n",
       "C2          40653562.0                             61238862.0   \n",
       "C3          15707921.0                             17245309.0   \n",
       "C4          22775948.0                             27484595.0   \n",
       "\n",
       "Item      Transport, storage, communication & services related to broadcasting  \\\n",
       "Category                                                                         \n",
       "C1                                                6818560.0                      \n",
       "C2                                               33749808.0                      \n",
       "C3                                               12231484.0                      \n",
       "C4                                               16191800.0                      \n",
       "\n",
       "Item      Financial services  \\\n",
       "Category                       \n",
       "C1                 3936489.0   \n",
       "C2                36296642.0   \n",
       "C3                 5766226.0   \n",
       "C4                 7684498.0   \n",
       "\n",
       "Item      Real estate, ownership of dwelling & professional services  \\\n",
       "Category                                                               \n",
       "C1                                               14740245.0            \n",
       "C2                                               92121446.0            \n",
       "C3                                               16224118.0            \n",
       "C4                                               24177534.0            \n",
       "\n",
       "Item      Public administration  ...  Manufacturing_%ofGSDP  \\\n",
       "Category                         ...                          \n",
       "C1                    3571292.0  ...              13.498187   \n",
       "C2                   18567815.0  ...              18.622130   \n",
       "C3                    7927173.0  ...              12.383423   \n",
       "C4                   13486630.0  ...              10.712459   \n",
       "\n",
       "Item      Electricity, gas, water supply & other utility services_%ofGSDP  \\\n",
       "Category                                                                    \n",
       "C1                                                 1.963097                 \n",
       "C2                                                 2.357408                 \n",
       "C3                                                 2.587440                 \n",
       "C4                                                 1.847900                 \n",
       "\n",
       "Item      Construction_%ofGSDP  Trade, repair, hotels and restaurants_%ofGSDP  \\\n",
       "Category                                                                        \n",
       "C1                   11.051090                                      13.730076   \n",
       "C2                    6.932967                                      10.443537   \n",
       "C3                    8.826341                                       9.690206   \n",
       "C4                    9.764521                                      11.783216   \n",
       "\n",
       "Item      Transport, storage, communication & services related to broadcasting_%ofGSDP  \\\n",
       "Category                                                                                 \n",
       "C1                                                 6.689409                              \n",
       "C2                                                 5.755616                              \n",
       "C3                                                 6.872918                              \n",
       "C4                                                 6.941761                              \n",
       "\n",
       "Item      Financial services_%ofGSDP  \\\n",
       "Category                               \n",
       "C1                          3.861928   \n",
       "C2                          6.189947   \n",
       "C3                          3.240065   \n",
       "C4                          3.294504   \n",
       "\n",
       "Item      Real estate, ownership of dwelling & professional services_%ofGSDP  \\\n",
       "Category                                                                       \n",
       "C1                                                14.461049                    \n",
       "C2                                                15.710184                    \n",
       "C3                                                 9.116395                    \n",
       "C4                                                10.365410                    \n",
       "\n",
       "Item      Public administration_%ofGSDP  Other services_%ofGSDP  \\\n",
       "Category                                                          \n",
       "C1                             3.503648                7.907258   \n",
       "C2                             3.166513                6.182617   \n",
       "C3                             4.454309                7.201032   \n",
       "C4                             5.781998                6.799089   \n",
       "\n",
       "Item      Gross State Domestic Product_%ofGSDP  \n",
       "Category                                        \n",
       "C1                                       100.0  \n",
       "C2                                       100.0  \n",
       "C3                                       100.0  \n",
       "C4                                       100.0  \n",
       "\n",
       "[4 rows x 24 columns]"
      ]
     },
     "execution_count": 72,
     "metadata": {},
     "output_type": "execute_result"
    }
   ],
   "source": [
    "\n",
    "for column_name in categorical_df.columns:\n",
    "    categorical_df[str(column_name)+'_%ofGSDP'] = 100*(categorical_df[column_name]/categorical_df['Gross State Domestic Product'])\n",
    "\n",
    "categorical_df.head()\n"
   ]
  },
  {
   "cell_type": "markdown",
   "metadata": {},
   "source": [
    "### Find the top 3/4/5 sub-sectors (such as agriculture, forestry and fishing, crops, manufacturing etc., not primary, secondary and tertiary) that contribute to approximately 80% of the GSDP of each category."
   ]
  },
  {
   "cell_type": "code",
   "execution_count": 73,
   "metadata": {},
   "outputs": [
    {
     "data": {
      "text/html": [
       "<div>\n",
       "<style scoped>\n",
       "    .dataframe tbody tr th:only-of-type {\n",
       "        vertical-align: middle;\n",
       "    }\n",
       "\n",
       "    .dataframe tbody tr th {\n",
       "        vertical-align: top;\n",
       "    }\n",
       "\n",
       "    .dataframe thead th {\n",
       "        text-align: right;\n",
       "    }\n",
       "</style>\n",
       "<table border=\"1\" class=\"dataframe\">\n",
       "  <thead>\n",
       "    <tr style=\"text-align: right;\">\n",
       "      <th>Category</th>\n",
       "      <th>C1</th>\n",
       "      <th>C2</th>\n",
       "      <th>C3</th>\n",
       "      <th>C4</th>\n",
       "    </tr>\n",
       "    <tr>\n",
       "      <th>Item</th>\n",
       "      <th></th>\n",
       "      <th></th>\n",
       "      <th></th>\n",
       "      <th></th>\n",
       "    </tr>\n",
       "  </thead>\n",
       "  <tbody>\n",
       "    <tr>\n",
       "      <th>Agriculture, forestry and fishing_%ofGSDP</th>\n",
       "      <td>14.119213</td>\n",
       "      <td>12.825977</td>\n",
       "      <td>23.727451</td>\n",
       "      <td>24.323490</td>\n",
       "    </tr>\n",
       "    <tr>\n",
       "      <th>Mining and quarrying_%ofGSDP</th>\n",
       "      <td>0.577805</td>\n",
       "      <td>1.769047</td>\n",
       "      <td>6.088662</td>\n",
       "      <td>2.613661</td>\n",
       "    </tr>\n",
       "    <tr>\n",
       "      <th>Manufacturing_%ofGSDP</th>\n",
       "      <td>13.498187</td>\n",
       "      <td>18.622130</td>\n",
       "      <td>12.383423</td>\n",
       "      <td>10.712459</td>\n",
       "    </tr>\n",
       "    <tr>\n",
       "      <th>Electricity, gas, water supply &amp; other utility services_%ofGSDP</th>\n",
       "      <td>1.963097</td>\n",
       "      <td>2.357408</td>\n",
       "      <td>2.587440</td>\n",
       "      <td>1.847900</td>\n",
       "    </tr>\n",
       "    <tr>\n",
       "      <th>Construction_%ofGSDP</th>\n",
       "      <td>11.051090</td>\n",
       "      <td>6.932967</td>\n",
       "      <td>8.826341</td>\n",
       "      <td>9.764521</td>\n",
       "    </tr>\n",
       "    <tr>\n",
       "      <th>Trade, repair, hotels and restaurants_%ofGSDP</th>\n",
       "      <td>13.730076</td>\n",
       "      <td>10.443537</td>\n",
       "      <td>9.690206</td>\n",
       "      <td>11.783216</td>\n",
       "    </tr>\n",
       "    <tr>\n",
       "      <th>Transport, storage, communication &amp; services related to broadcasting_%ofGSDP</th>\n",
       "      <td>6.689409</td>\n",
       "      <td>5.755616</td>\n",
       "      <td>6.872918</td>\n",
       "      <td>6.941761</td>\n",
       "    </tr>\n",
       "    <tr>\n",
       "      <th>Financial services_%ofGSDP</th>\n",
       "      <td>3.861928</td>\n",
       "      <td>6.189947</td>\n",
       "      <td>3.240065</td>\n",
       "      <td>3.294504</td>\n",
       "    </tr>\n",
       "    <tr>\n",
       "      <th>Real estate, ownership of dwelling &amp; professional services_%ofGSDP</th>\n",
       "      <td>14.461049</td>\n",
       "      <td>15.710184</td>\n",
       "      <td>9.116395</td>\n",
       "      <td>10.365410</td>\n",
       "    </tr>\n",
       "    <tr>\n",
       "      <th>Public administration_%ofGSDP</th>\n",
       "      <td>3.503648</td>\n",
       "      <td>3.166513</td>\n",
       "      <td>4.454309</td>\n",
       "      <td>5.781998</td>\n",
       "    </tr>\n",
       "    <tr>\n",
       "      <th>Other services_%ofGSDP</th>\n",
       "      <td>7.907258</td>\n",
       "      <td>6.182617</td>\n",
       "      <td>7.201032</td>\n",
       "      <td>6.799089</td>\n",
       "    </tr>\n",
       "  </tbody>\n",
       "</table>\n",
       "</div>"
      ],
      "text/plain": [
       "Category                                                   C1         C2  \\\n",
       "Item                                                                       \n",
       "Agriculture, forestry and fishing_%ofGSDP           14.119213  12.825977   \n",
       "Mining and quarrying_%ofGSDP                         0.577805   1.769047   \n",
       "Manufacturing_%ofGSDP                               13.498187  18.622130   \n",
       "Electricity, gas, water supply & other utility ...   1.963097   2.357408   \n",
       "Construction_%ofGSDP                                11.051090   6.932967   \n",
       "Trade, repair, hotels and restaurants_%ofGSDP       13.730076  10.443537   \n",
       "Transport, storage, communication & services re...   6.689409   5.755616   \n",
       "Financial services_%ofGSDP                           3.861928   6.189947   \n",
       "Real estate, ownership of dwelling & profession...  14.461049  15.710184   \n",
       "Public administration_%ofGSDP                        3.503648   3.166513   \n",
       "Other services_%ofGSDP                               7.907258   6.182617   \n",
       "\n",
       "Category                                                   C3         C4  \n",
       "Item                                                                      \n",
       "Agriculture, forestry and fishing_%ofGSDP           23.727451  24.323490  \n",
       "Mining and quarrying_%ofGSDP                         6.088662   2.613661  \n",
       "Manufacturing_%ofGSDP                               12.383423  10.712459  \n",
       "Electricity, gas, water supply & other utility ...   2.587440   1.847900  \n",
       "Construction_%ofGSDP                                 8.826341   9.764521  \n",
       "Trade, repair, hotels and restaurants_%ofGSDP        9.690206  11.783216  \n",
       "Transport, storage, communication & services re...   6.872918   6.941761  \n",
       "Financial services_%ofGSDP                           3.240065   3.294504  \n",
       "Real estate, ownership of dwelling & profession...   9.116395  10.365410  \n",
       "Public administration_%ofGSDP                        4.454309   5.781998  \n",
       "Other services_%ofGSDP                               7.201032   6.799089  "
      ]
     },
     "execution_count": 73,
     "metadata": {},
     "output_type": "execute_result"
    }
   ],
   "source": [
    "# transposing the data frame to get C1,C2,C3,C4 in columns\n",
    "\n",
    "Trans_1 = (categorical_df.T)\n",
    "Trans_1 = Trans_1[-12:-1] #filtering only the columns which we require i.e '_%ofGSDP'\n",
    "Trans_1\n",
    "\n",
    "    \n"
   ]
  },
  {
   "cell_type": "markdown",
   "metadata": {},
   "source": [
    "### To filter the sub-sectors of each category that contribute to 80% of the Gsdp of each category we need to do the following things\n",
    "`Step 1) Loop on each column of the dataframe and create a sorted pandas series of that column. <br>\n",
    "Step 2) Convert the created series into dataframe <br>\n",
    "Step 3) Add a Cumulative frequency column which contains the cumulative % contribution to the total Gsdp <br>\n",
    "Step 4) Filter the data for only the subsectors that contribute to slightly less than 80% and then filter only the required column i.e % <br>\n",
    "Step 5) Append the dataframe 'cab' to an empty list`\n",
    "\n"
   ]
  },
  {
   "cell_type": "code",
   "execution_count": 74,
   "metadata": {},
   "outputs": [
    {
     "name": "stdout",
     "output_type": "stream",
     "text": [
      "SUB-SECTORS OF EACH CATEGORY THAT CONTRIBUTE TO 80% OF THE GSDP OF EACH CATEGORY\n",
      "                                                           C1\n",
      "Item                                                         \n",
      "Real estate, ownership of dwelling & profession...  14.461049\n",
      "Agriculture, forestry and fishing                   14.119213\n",
      "Trade, repair, hotels and restaurants               13.730076\n",
      "Manufacturing                                       13.498187\n",
      "Construction                                        11.051090\n",
      "Other services                                       7.907258\n",
      "                                                           C2\n",
      "Item                                                         \n",
      "Manufacturing                                       18.622130\n",
      "Real estate, ownership of dwelling & profession...  15.710184\n",
      "Agriculture, forestry and fishing                   12.825977\n",
      "Trade, repair, hotels and restaurants               10.443537\n",
      "Construction                                         6.932967\n",
      "Financial services                                   6.189947\n",
      "Other services                                       6.182617\n",
      "                                                           C3\n",
      "Item                                                         \n",
      "Agriculture, forestry and fishing                   23.727451\n",
      "Manufacturing                                       12.383423\n",
      "Trade, repair, hotels and restaurants                9.690206\n",
      "Real estate, ownership of dwelling & profession...   9.116395\n",
      "Construction                                         8.826341\n",
      "Other services                                       7.201032\n",
      "Transport, storage, communication & services re...   6.872918\n",
      "                                                           C4\n",
      "Item                                                         \n",
      "Agriculture, forestry and fishing                   24.323490\n",
      "Trade, repair, hotels and restaurants               11.783216\n",
      "Manufacturing                                       10.712459\n",
      "Real estate, ownership of dwelling & profession...  10.365410\n",
      "Construction                                         9.764521\n",
      "Transport, storage, communication & services re...   6.941761\n"
     ]
    }
   ],
   "source": [
    "temp_lis = []\n",
    "\n",
    "for column in Trans_1.columns:\n",
    "    cab = Trans_1[column].sort_values(ascending = False)\n",
    "    cab = cab.to_frame()\n",
    "\n",
    "    cab['Cumulative'] = cab[column].cumsum()\n",
    "    cab = cab[cab['Cumulative'] <= 80]\n",
    "    cab = cab[column]\n",
    "    cab.index = cab.index.str.rstrip('_%ofGSDP')\n",
    "    temp_lis.append(cab)\n",
    "\n",
    "    \n",
    "    \n",
    "print('Sub-sectors of each category that contribute to 80% of the Gsdp of each category'.upper())\n",
    "for x in temp_lis:\n",
    "    print (x.to_frame())\n",
    "\n",
    "\n",
    "\n",
    "    \n",
    "\n"
   ]
  },
  {
   "cell_type": "markdown",
   "metadata": {},
   "source": [
    "### MAPPING SUB-SECTORS OF EACH CATEGORY THAT CONTRIBUTE TO 80% OF THE GSDP OF EACH CATEGORY"
   ]
  },
  {
   "cell_type": "code",
   "execution_count": 75,
   "metadata": {},
   "outputs": [
    {
     "data": {
      "image/png": "[encoded data removed]",
      "text/plain": [
       "<Figure size 864x576 with 4 Axes>"
      ]
     },
     "metadata": {
      "needs_background": "light"
     },
     "output_type": "display_data"
    }
   ],
   "source": [
    "plt.figure(figsize = (12,8))\n",
    "plt.suptitle('SUB-CATEGORIES THAT CONTRIBUTE ABOUT 80% OF THE GSDP',ha = 'center',va ='center',fontsize = 16)\n",
    "plt.subplot(221)\n",
    "temp_lis[0].sort_values(ascending = False).plot(kind = 'barh',legend = True, color = 'red')\n",
    "plt.subplot(222)\n",
    "temp_lis[1].sort_values(ascending = False).plot(kind = 'barh',legend = True,color = 'green')\n",
    "plt.subplot(223)\n",
    "temp_lis[2].sort_values(ascending = False).plot(kind = 'barh',legend = True,color ='blue')\n",
    "plt.subplot(224)\n",
    "temp_lis[3].sort_values(ascending = False).plot(kind = 'barh',legend = True,color = 'black')\n",
    "plt.subplots_adjust(wspace = 3,right = 1)\n",
    "\n",
    "\n"
   ]
  },
  {
   "cell_type": "markdown",
   "metadata": {},
   "source": [
    "#### How does the GDP distribution of the top states (C1) differ from the others?\n",
    "#### Which sub-sectors seem to be correlated with high GDP?\n",
    "#### Which sub-sectors do the various categories need to focus on? \n"
   ]
  },
  {
   "cell_type": "code",
   "execution_count": 76,
   "metadata": {},
   "outputs": [
    {
     "data": {
      "image/png": "[encoded data removed]",
      "text/plain": [
       "<Figure size 216x216 with 1 Axes>"
      ]
     },
     "metadata": {
      "needs_background": "light"
     },
     "output_type": "display_data"
    },
    {
     "data": {
      "image/png": "[encoded data removed]",
      "text/plain": [
       "<Figure size 216x216 with 1 Axes>"
      ]
     },
     "metadata": {
      "needs_background": "light"
     },
     "output_type": "display_data"
    },
    {
     "data": {
      "image/png": "[encoded data removed]",
      "text/plain": [
       "<Figure size 216x216 with 1 Axes>"
      ]
     },
     "metadata": {
      "needs_background": "light"
     },
     "output_type": "display_data"
    },
    {
     "data": {
      "image/png": "[encoded data removed]",
      "text/plain": [
       "<Figure size 216x216 with 1 Axes>"
      ]
     },
     "metadata": {
      "needs_background": "light"
     },
     "output_type": "display_data"
    }
   ],
   "source": [
    "for x in sorted(set(allstates['Category'])):\n",
    "    y = allstates[allstates['Category'] == x]\n",
    "    plt.figure(figsize = (3,3))\n",
    "    plt.title(x)\n",
    "    sns.distplot(y['Gross State Domestic Product'],bins = 4)\n",
    "    "
   ]
  },
  {
   "cell_type": "markdown",
   "metadata": {},
   "source": [
    "### The distribution of C1's Gdp follows almost a Normal Distribution , whereas C2 and C3 are slightly negatively skewed.There is an interesting pattern in C4 as we can see 2 bumps which indiactes that C4 can be further sub categorised into 2 parts "
   ]
  },
  {
   "cell_type": "markdown",
   "metadata": {},
   "source": [
    "#### Which sub-sectors seem to be correlated with high GDP?"
   ]
  },
  {
   "cell_type": "code",
   "execution_count": 77,
   "metadata": {},
   "outputs": [
    {
     "data": {
      "text/html": [
       "<div>\n",
       "<style scoped>\n",
       "    .dataframe tbody tr th:only-of-type {\n",
       "        vertical-align: middle;\n",
       "    }\n",
       "\n",
       "    .dataframe tbody tr th {\n",
       "        vertical-align: top;\n",
       "    }\n",
       "\n",
       "    .dataframe thead th {\n",
       "        text-align: right;\n",
       "    }\n",
       "</style>\n",
       "<table border=\"1\" class=\"dataframe\">\n",
       "  <thead>\n",
       "    <tr style=\"text-align: right;\">\n",
       "      <th></th>\n",
       "      <th>C1 and Co-relation with HIGH Gsdp</th>\n",
       "    </tr>\n",
       "    <tr>\n",
       "      <th>Item</th>\n",
       "      <th></th>\n",
       "    </tr>\n",
       "  </thead>\n",
       "  <tbody>\n",
       "    <tr>\n",
       "      <th>Financial services</th>\n",
       "      <td>0.998874</td>\n",
       "    </tr>\n",
       "    <tr>\n",
       "      <th>Real estate, ownership of dwelling &amp; professional services</th>\n",
       "      <td>0.994537</td>\n",
       "    </tr>\n",
       "    <tr>\n",
       "      <th>Transport, storage, communication &amp; services related to broadcasting</th>\n",
       "      <td>0.984249</td>\n",
       "    </tr>\n",
       "    <tr>\n",
       "      <th>Trade, repair, hotels and restaurants</th>\n",
       "      <td>0.973426</td>\n",
       "    </tr>\n",
       "    <tr>\n",
       "      <th>Construction</th>\n",
       "      <td>0.953227</td>\n",
       "    </tr>\n",
       "    <tr>\n",
       "      <th>Agriculture, forestry and fishing</th>\n",
       "      <td>0.938472</td>\n",
       "    </tr>\n",
       "    <tr>\n",
       "      <th>Public administration</th>\n",
       "      <td>0.931155</td>\n",
       "    </tr>\n",
       "    <tr>\n",
       "      <th>Other services</th>\n",
       "      <td>0.885664</td>\n",
       "    </tr>\n",
       "    <tr>\n",
       "      <th>Manufacturing</th>\n",
       "      <td>0.834636</td>\n",
       "    </tr>\n",
       "    <tr>\n",
       "      <th>Mining and quarrying</th>\n",
       "      <td>0.711040</td>\n",
       "    </tr>\n",
       "    <tr>\n",
       "      <th>Electricity, gas, water supply &amp; other utility services</th>\n",
       "      <td>0.709530</td>\n",
       "    </tr>\n",
       "  </tbody>\n",
       "</table>\n",
       "</div>"
      ],
      "text/plain": [
       "                                                    C1 and Co-relation with HIGH Gsdp\n",
       "Item                                                                                 \n",
       "Financial services                                                           0.998874\n",
       "Real estate, ownership of dwelling & profession...                           0.994537\n",
       "Transport, storage, communication & services re...                           0.984249\n",
       "Trade, repair, hotels and restaurants                                        0.973426\n",
       "Construction                                                                 0.953227\n",
       "Agriculture, forestry and fishing                                            0.938472\n",
       "Public administration                                                        0.931155\n",
       "Other services                                                               0.885664\n",
       "Manufacturing                                                                0.834636\n",
       "Mining and quarrying                                                         0.711040\n",
       "Electricity, gas, water supply & other utility ...                           0.709530"
      ]
     },
     "execution_count": 77,
     "metadata": {},
     "output_type": "execute_result"
    }
   ],
   "source": [
    "te = allstates[allstates['Category'] == 'C1'][subsectors]\n",
    "te = te[te.columns.difference(['Category'])]\n",
    "relay = te.astype(float).corr()\n",
    "relay = relay.iloc[4,:].to_frame()\n",
    "relay = relay.rename(columns = {'Gross State Domestic Product':'C1 and Co-relation with HIGH Gsdp'})\n",
    "relay = relay.sort_values('C1 and Co-relation with HIGH Gsdp',ascending = False).iloc[1:]\n",
    "relay"
   ]
  },
  {
   "attachments": {},
   "cell_type": "markdown",
   "metadata": {},
   "source": [
    "#### Finally, provide at least two recommendations for each category to improve the per capita GDP.\n",
    "`1) The subcategory 'Real estate, ownership of dwelling' is the game changing aspect in higher per capita gdp. Real estate and freelancing laws of the C2,C3, C4 states must be leisured to continue growth and expansion\n",
    "2) The states with lower per- capita Gdp have lower contribution from the secondary sector. These states must try to expand Secondary sector by providing special incentives and creating skilled workers`\n"
   ]
  },
  {
   "cell_type": "markdown",
   "metadata": {},
   "source": [
    "## Part 2"
   ]
  },
  {
   "cell_type": "code",
   "execution_count": 78,
   "metadata": {},
   "outputs": [
    {
     "data": {
      "text/html": [
       "<div>\n",
       "<style scoped>\n",
       "    .dataframe tbody tr th:only-of-type {\n",
       "        vertical-align: middle;\n",
       "    }\n",
       "\n",
       "    .dataframe tbody tr th {\n",
       "        vertical-align: top;\n",
       "    }\n",
       "\n",
       "    .dataframe thead th {\n",
       "        text-align: right;\n",
       "    }\n",
       "</style>\n",
       "<table border=\"1\" class=\"dataframe\">\n",
       "  <thead>\n",
       "    <tr style=\"text-align: right;\">\n",
       "      <th></th>\n",
       "      <th>Sl. No.</th>\n",
       "      <th>Level of Education - State</th>\n",
       "      <th>Primary - 2012-2013</th>\n",
       "      <th>Primary - 2014-2015</th>\n",
       "      <th>Primary - 2014-2015.1</th>\n",
       "      <th>Upper Primary - 2012-2013</th>\n",
       "      <th>Upper Primary - 2013-2014</th>\n",
       "      <th>Upper Primary - 2014-2015</th>\n",
       "      <th>Secondary - 2012-2013</th>\n",
       "      <th>Secondary - 2013-2014</th>\n",
       "      <th>Secondary - 2014-2015</th>\n",
       "      <th>Senior Secondary - 2012-2013</th>\n",
       "      <th>Senior Secondary - 2013-2014</th>\n",
       "      <th>Senior Secondary - 2014-2015</th>\n",
       "    </tr>\n",
       "  </thead>\n",
       "  <tbody>\n",
       "    <tr>\n",
       "      <th>0</th>\n",
       "      <td>1</td>\n",
       "      <td>A &amp; N Islands</td>\n",
       "      <td>0.68</td>\n",
       "      <td>1.21</td>\n",
       "      <td>0.51</td>\n",
       "      <td>1.23</td>\n",
       "      <td>0.51</td>\n",
       "      <td>1.69</td>\n",
       "      <td>5.56</td>\n",
       "      <td>7.20</td>\n",
       "      <td>9.87</td>\n",
       "      <td>14.14</td>\n",
       "      <td>15.87</td>\n",
       "      <td>16.93</td>\n",
       "    </tr>\n",
       "    <tr>\n",
       "      <th>1</th>\n",
       "      <td>2</td>\n",
       "      <td>Andhra Pradesh</td>\n",
       "      <td>3.18</td>\n",
       "      <td>4.35</td>\n",
       "      <td>6.72</td>\n",
       "      <td>3.36</td>\n",
       "      <td>3.78</td>\n",
       "      <td>5.20</td>\n",
       "      <td>12.72</td>\n",
       "      <td>12.65</td>\n",
       "      <td>15.71</td>\n",
       "      <td>0.35</td>\n",
       "      <td>11.79</td>\n",
       "      <td>NaN</td>\n",
       "    </tr>\n",
       "    <tr>\n",
       "      <th>2</th>\n",
       "      <td>3</td>\n",
       "      <td>Arunachal Pradesh</td>\n",
       "      <td>15.16</td>\n",
       "      <td>10.89</td>\n",
       "      <td>10.82</td>\n",
       "      <td>7.47</td>\n",
       "      <td>5.59</td>\n",
       "      <td>6.71</td>\n",
       "      <td>12.93</td>\n",
       "      <td>14.49</td>\n",
       "      <td>17.11</td>\n",
       "      <td>5.11</td>\n",
       "      <td>17.07</td>\n",
       "      <td>18.42</td>\n",
       "    </tr>\n",
       "    <tr>\n",
       "      <th>3</th>\n",
       "      <td>4</td>\n",
       "      <td>Assam</td>\n",
       "      <td>6.24</td>\n",
       "      <td>7.44</td>\n",
       "      <td>15.36</td>\n",
       "      <td>7.20</td>\n",
       "      <td>7.05</td>\n",
       "      <td>10.51</td>\n",
       "      <td>26.77</td>\n",
       "      <td>30.43</td>\n",
       "      <td>27.06</td>\n",
       "      <td>4.69</td>\n",
       "      <td>7.24</td>\n",
       "      <td>NaN</td>\n",
       "    </tr>\n",
       "    <tr>\n",
       "      <th>4</th>\n",
       "      <td>5</td>\n",
       "      <td>Bihar</td>\n",
       "      <td>NaN</td>\n",
       "      <td>2.09</td>\n",
       "      <td>NaN</td>\n",
       "      <td>NaN</td>\n",
       "      <td>2.98</td>\n",
       "      <td>4.08</td>\n",
       "      <td>30.14</td>\n",
       "      <td>25.33</td>\n",
       "      <td>25.90</td>\n",
       "      <td>NaN</td>\n",
       "      <td>NaN</td>\n",
       "      <td>NaN</td>\n",
       "    </tr>\n",
       "  </tbody>\n",
       "</table>\n",
       "</div>"
      ],
      "text/plain": [
       "  Sl. No. Level of Education - State  Primary - 2012-2013  \\\n",
       "0       1              A & N Islands                 0.68   \n",
       "1       2             Andhra Pradesh                 3.18   \n",
       "2       3          Arunachal Pradesh                15.16   \n",
       "3       4                      Assam                 6.24   \n",
       "4       5                      Bihar                  NaN   \n",
       "\n",
       "   Primary - 2014-2015  Primary - 2014-2015.1  Upper Primary - 2012-2013  \\\n",
       "0                 1.21                   0.51                       1.23   \n",
       "1                 4.35                   6.72                       3.36   \n",
       "2                10.89                  10.82                       7.47   \n",
       "3                 7.44                  15.36                       7.20   \n",
       "4                 2.09                    NaN                        NaN   \n",
       "\n",
       "   Upper Primary - 2013-2014  Upper Primary - 2014-2015  \\\n",
       "0                       0.51                       1.69   \n",
       "1                       3.78                       5.20   \n",
       "2                       5.59                       6.71   \n",
       "3                       7.05                      10.51   \n",
       "4                       2.98                       4.08   \n",
       "\n",
       "   Secondary - 2012-2013  Secondary - 2013-2014  Secondary - 2014-2015  \\\n",
       "0                   5.56                   7.20                   9.87   \n",
       "1                  12.72                  12.65                  15.71   \n",
       "2                  12.93                  14.49                  17.11   \n",
       "3                  26.77                  30.43                  27.06   \n",
       "4                  30.14                  25.33                  25.90   \n",
       "\n",
       "   Senior Secondary - 2012-2013  Senior Secondary - 2013-2014  \\\n",
       "0                         14.14                         15.87   \n",
       "1                          0.35                         11.79   \n",
       "2                          5.11                         17.07   \n",
       "3                          4.69                          7.24   \n",
       "4                           NaN                           NaN   \n",
       "\n",
       "   Senior Secondary - 2014-2015  \n",
       "0                         16.93  \n",
       "1                           NaN  \n",
       "2                         18.42  \n",
       "3                           NaN  \n",
       "4                           NaN  "
      ]
     },
     "execution_count": 78,
     "metadata": {},
     "output_type": "execute_result"
    }
   ],
   "source": [
    "# reading csv file which consists drop out rates of all states\n",
    "dropout_df = pd.read_csv('/Users/madhavan/Desktop/new /EDA - programming in python/GDP assignment/data 2b/rs_session243_au570_1.1.csv')\n",
    "dropout_df.head()"
   ]
  },
  {
   "cell_type": "code",
   "execution_count": 79,
   "metadata": {},
   "outputs": [],
   "source": [
    "# There is a small error in the column header. Changing it accordingly\n",
    "dropout_df.rename(columns = {'Primary - 2014-2015':'Primary - 2013-2014'},inplace = True)\n",
    "dropout_df.rename(columns = {'Primary - 2014-2015.1':'Primary - 2014-2015'},inplace = True)\n"
   ]
  },
  {
   "cell_type": "markdown",
   "metadata": {},
   "source": [
    "#### Analyse if there is any correlation of GDP per capita with dropout rates in education (primary, upper primary and secondary) for the year 2014-2015 for each state. Choose an appropriate plot to conduct this analysis."
   ]
  },
  {
   "cell_type": "markdown",
   "metadata": {},
   "source": [
    "### For standardisation purposes lets replace the name of the states same as used in Data 1A"
   ]
  },
  {
   "cell_type": "code",
   "execution_count": 80,
   "metadata": {},
   "outputs": [],
   "source": [
    "dropout_df = dropout_df[ ~ dropout_df['Level of Education - State'].isin(unionterr)]\n",
    "dropout_df['Level of Education - State'] = dropout_df['Level of Education - State'].replace('Uttrakhand','Uttarakhand')\n",
    "dropout_df['Level of Education - State'] = dropout_df['Level of Education - State'].replace('Chhatisgarh','Chhattisgarh')\n"
   ]
  },
  {
   "cell_type": "markdown",
   "metadata": {},
   "source": [
    "#### Filtering columns we require"
   ]
  },
  {
   "cell_type": "code",
   "execution_count": 81,
   "metadata": {},
   "outputs": [],
   "source": [
    "dropout14_15 = dropout_df[['Level of Education - State','Primary - 2014-2015','Upper Primary - 2014-2015','Secondary - 2014-2015']]"
   ]
  },
  {
   "cell_type": "markdown",
   "metadata": {},
   "source": [
    "#### Changing the index to 'Level of Education - State' for easy access"
   ]
  },
  {
   "cell_type": "code",
   "execution_count": 82,
   "metadata": {},
   "outputs": [
    {
     "data": {
      "text/html": [
       "<div>\n",
       "<style scoped>\n",
       "    .dataframe tbody tr th:only-of-type {\n",
       "        vertical-align: middle;\n",
       "    }\n",
       "\n",
       "    .dataframe tbody tr th {\n",
       "        vertical-align: top;\n",
       "    }\n",
       "\n",
       "    .dataframe thead th {\n",
       "        text-align: right;\n",
       "    }\n",
       "</style>\n",
       "<table border=\"1\" class=\"dataframe\">\n",
       "  <thead>\n",
       "    <tr style=\"text-align: right;\">\n",
       "      <th></th>\n",
       "      <th>Level of Education - State</th>\n",
       "      <th>Primary - 2014-2015</th>\n",
       "      <th>Upper Primary - 2014-2015</th>\n",
       "      <th>Secondary - 2014-2015</th>\n",
       "    </tr>\n",
       "    <tr>\n",
       "      <th>Level of Education - State</th>\n",
       "      <th></th>\n",
       "      <th></th>\n",
       "      <th></th>\n",
       "      <th></th>\n",
       "    </tr>\n",
       "  </thead>\n",
       "  <tbody>\n",
       "    <tr>\n",
       "      <th>A &amp; N Islands</th>\n",
       "      <td>A &amp; N Islands</td>\n",
       "      <td>0.51</td>\n",
       "      <td>1.69</td>\n",
       "      <td>9.87</td>\n",
       "    </tr>\n",
       "    <tr>\n",
       "      <th>Andhra Pradesh</th>\n",
       "      <td>Andhra Pradesh</td>\n",
       "      <td>6.72</td>\n",
       "      <td>5.20</td>\n",
       "      <td>15.71</td>\n",
       "    </tr>\n",
       "    <tr>\n",
       "      <th>Arunachal Pradesh</th>\n",
       "      <td>Arunachal Pradesh</td>\n",
       "      <td>10.82</td>\n",
       "      <td>6.71</td>\n",
       "      <td>17.11</td>\n",
       "    </tr>\n",
       "    <tr>\n",
       "      <th>Assam</th>\n",
       "      <td>Assam</td>\n",
       "      <td>15.36</td>\n",
       "      <td>10.51</td>\n",
       "      <td>27.06</td>\n",
       "    </tr>\n",
       "    <tr>\n",
       "      <th>Bihar</th>\n",
       "      <td>Bihar</td>\n",
       "      <td>NaN</td>\n",
       "      <td>4.08</td>\n",
       "      <td>25.90</td>\n",
       "    </tr>\n",
       "  </tbody>\n",
       "</table>\n",
       "</div>"
      ],
      "text/plain": [
       "                           Level of Education - State  Primary - 2014-2015  \\\n",
       "Level of Education - State                                                   \n",
       "A & N Islands                           A & N Islands                 0.51   \n",
       "Andhra Pradesh                         Andhra Pradesh                 6.72   \n",
       "Arunachal Pradesh                   Arunachal Pradesh                10.82   \n",
       "Assam                                           Assam                15.36   \n",
       "Bihar                                           Bihar                  NaN   \n",
       "\n",
       "                            Upper Primary - 2014-2015  Secondary - 2014-2015  \n",
       "Level of Education - State                                                    \n",
       "A & N Islands                                    1.69                   9.87  \n",
       "Andhra Pradesh                                   5.20                  15.71  \n",
       "Arunachal Pradesh                                6.71                  17.11  \n",
       "Assam                                           10.51                  27.06  \n",
       "Bihar                                            4.08                  25.90  "
      ]
     },
     "execution_count": 82,
     "metadata": {},
     "output_type": "execute_result"
    }
   ],
   "source": [
    "dropout14_15.index = dropout14_15['Level of Education - State']\n",
    "dropout14_15.head()"
   ]
  },
  {
   "cell_type": "code",
   "execution_count": 83,
   "metadata": {},
   "outputs": [],
   "source": [
    "# filling spaces with '_'\n",
    "dropout14_15.index = dropout14_15.index.map(lambda x: '_'.join(x.split(' ')))"
   ]
  },
  {
   "cell_type": "markdown",
   "metadata": {},
   "source": [
    "### Merging data used in Data 1b and drop out data. Here we do left merge and with this we remove 'Union territories' also"
   ]
  },
  {
   "cell_type": "code",
   "execution_count": 84,
   "metadata": {},
   "outputs": [],
   "source": [
    "percp  = gdp_pc.to_frame()\n",
    "drop_merge = pd.merge(percp,dropout14_15,how = 'left',right_on = dropout14_15.index,left_on = percp.index)"
   ]
  },
  {
   "cell_type": "code",
   "execution_count": 85,
   "metadata": {},
   "outputs": [],
   "source": [
    "drop_merge['Level of Education - State'] = drop_merge['key_0']\n",
    "drop_merge = drop_merge.set_index(drop_merge['key_0'])\n",
    "del drop_merge['key_0']\n",
    "del drop_merge['Level of Education - State']"
   ]
  },
  {
   "cell_type": "code",
   "execution_count": 86,
   "metadata": {},
   "outputs": [
    {
     "data": {
      "text/html": [
       "<div>\n",
       "<style scoped>\n",
       "    .dataframe tbody tr th:only-of-type {\n",
       "        vertical-align: middle;\n",
       "    }\n",
       "\n",
       "    .dataframe tbody tr th {\n",
       "        vertical-align: top;\n",
       "    }\n",
       "\n",
       "    .dataframe thead th {\n",
       "        text-align: right;\n",
       "    }\n",
       "</style>\n",
       "<table border=\"1\" class=\"dataframe\">\n",
       "  <thead>\n",
       "    <tr style=\"text-align: right;\">\n",
       "      <th></th>\n",
       "      <th>Per Capita GSDP (Rs.)</th>\n",
       "      <th>Primary - 2014-2015</th>\n",
       "      <th>Upper Primary - 2014-2015</th>\n",
       "      <th>Secondary - 2014-2015</th>\n",
       "    </tr>\n",
       "    <tr>\n",
       "      <th>key_0</th>\n",
       "      <th></th>\n",
       "      <th></th>\n",
       "      <th></th>\n",
       "      <th></th>\n",
       "    </tr>\n",
       "  </thead>\n",
       "  <tbody>\n",
       "    <tr>\n",
       "      <th>Goa</th>\n",
       "      <td>271793</td>\n",
       "      <td>0.73</td>\n",
       "      <td>0.07</td>\n",
       "      <td>11.15</td>\n",
       "    </tr>\n",
       "    <tr>\n",
       "      <th>Sikkim</th>\n",
       "      <td>240274</td>\n",
       "      <td>2.27</td>\n",
       "      <td>1.57</td>\n",
       "      <td>15.89</td>\n",
       "    </tr>\n",
       "    <tr>\n",
       "      <th>Haryana</th>\n",
       "      <td>164077</td>\n",
       "      <td>5.61</td>\n",
       "      <td>5.81</td>\n",
       "      <td>15.89</td>\n",
       "    </tr>\n",
       "    <tr>\n",
       "      <th>Kerala</th>\n",
       "      <td>154778</td>\n",
       "      <td>NaN</td>\n",
       "      <td>NaN</td>\n",
       "      <td>12.32</td>\n",
       "    </tr>\n",
       "    <tr>\n",
       "      <th>Uttarakhand</th>\n",
       "      <td>153076</td>\n",
       "      <td>4.04</td>\n",
       "      <td>1.19</td>\n",
       "      <td>10.40</td>\n",
       "    </tr>\n",
       "  </tbody>\n",
       "</table>\n",
       "</div>"
      ],
      "text/plain": [
       "            Per Capita GSDP (Rs.)  Primary - 2014-2015  \\\n",
       "key_0                                                    \n",
       "Goa                        271793                 0.73   \n",
       "Sikkim                     240274                 2.27   \n",
       "Haryana                    164077                 5.61   \n",
       "Kerala                     154778                  NaN   \n",
       "Uttarakhand                153076                 4.04   \n",
       "\n",
       "             Upper Primary - 2014-2015  Secondary - 2014-2015  \n",
       "key_0                                                          \n",
       "Goa                               0.07                  11.15  \n",
       "Sikkim                            1.57                  15.89  \n",
       "Haryana                           5.81                  15.89  \n",
       "Kerala                             NaN                  12.32  \n",
       "Uttarakhand                       1.19                  10.40  "
      ]
     },
     "execution_count": 86,
     "metadata": {},
     "output_type": "execute_result"
    }
   ],
   "source": [
    "drop_merge.head()"
   ]
  },
  {
   "cell_type": "code",
   "execution_count": 87,
   "metadata": {},
   "outputs": [],
   "source": [
    "drop_merge['Per Capita GSDP (Rs.)'] = drop_merge['Per Capita GSDP (Rs.)'].astype(int)"
   ]
  },
  {
   "cell_type": "markdown",
   "metadata": {},
   "source": [
    "### Creating a corelation matrix"
   ]
  },
  {
   "cell_type": "code",
   "execution_count": 88,
   "metadata": {},
   "outputs": [
    {
     "data": {
      "text/plain": [
       "Text(1.0, 1, 'correlation of GDP per capita with dropout rates in education')"
      ]
     },
     "execution_count": 88,
     "metadata": {},
     "output_type": "execute_result"
    },
    {
     "data": {
      "text/plain": [
       "<Figure size 864x864 with 0 Axes>"
      ]
     },
     "metadata": {},
     "output_type": "display_data"
    },
    {
     "data": {
      "image/png": "[encoded data removed]",
      "text/plain": [
       "<Figure size 720x720 with 20 Axes>"
      ]
     },
     "metadata": {
      "needs_background": "light"
     },
     "output_type": "display_data"
    }
   ],
   "source": [
    "matrix = drop_merge.corr()\n",
    "plt.figure(figsize=(12,12))\n",
    "sns.pairplot(drop_merge)\n",
    "\n",
    "plt.title('correlation of GDP per capita with dropout rates in education',loc = 'right',fontsize = 16)"
   ]
  },
  {
   "cell_type": "markdown",
   "metadata": {},
   "source": [
    "### In the above pairplot the first column and the first row represents the corelation between dropout rates and Gdp per capita `Here ,We can clearly see that there is some amount of NEGATIVE CORELATION FOR ALL LEVELS OF EDUCATION with Gsdp per-capita' (i.e the scatter points slants down from left to right)"
   ]
  },
  {
   "cell_type": "code",
   "execution_count": 89,
   "metadata": {},
   "outputs": [],
   "source": [
    "for_plot = matrix.iloc[1:,0]"
   ]
  },
  {
   "cell_type": "code",
   "execution_count": 90,
   "metadata": {},
   "outputs": [
    {
     "name": "stdout",
     "output_type": "stream",
     "text": [
      "Co_relation between Per Capita GSDP and Drop out rates for the year 2014-15\n"
     ]
    },
    {
     "data": {
      "text/html": [
       "<div>\n",
       "<style scoped>\n",
       "    .dataframe tbody tr th:only-of-type {\n",
       "        vertical-align: middle;\n",
       "    }\n",
       "\n",
       "    .dataframe tbody tr th {\n",
       "        vertical-align: top;\n",
       "    }\n",
       "\n",
       "    .dataframe thead th {\n",
       "        text-align: right;\n",
       "    }\n",
       "</style>\n",
       "<table border=\"1\" class=\"dataframe\">\n",
       "  <thead>\n",
       "    <tr style=\"text-align: right;\">\n",
       "      <th></th>\n",
       "      <th>Per Capita GSDP (Rs.)</th>\n",
       "    </tr>\n",
       "  </thead>\n",
       "  <tbody>\n",
       "    <tr>\n",
       "      <th>Primary - 2014-2015</th>\n",
       "      <td>-0.555275</td>\n",
       "    </tr>\n",
       "    <tr>\n",
       "      <th>Upper Primary - 2014-2015</th>\n",
       "      <td>-0.542732</td>\n",
       "    </tr>\n",
       "    <tr>\n",
       "      <th>Secondary - 2014-2015</th>\n",
       "      <td>-0.465649</td>\n",
       "    </tr>\n",
       "  </tbody>\n",
       "</table>\n",
       "</div>"
      ],
      "text/plain": [
       "                           Per Capita GSDP (Rs.)\n",
       "Primary - 2014-2015                    -0.555275\n",
       "Upper Primary - 2014-2015              -0.542732\n",
       "Secondary - 2014-2015                  -0.465649"
      ]
     },
     "execution_count": 90,
     "metadata": {},
     "output_type": "execute_result"
    }
   ],
   "source": [
    "print('Co_relation between Per Capita GSDP and Drop out rates for the year 2014-15')\n",
    "for_plot = for_plot.to_frame()\n",
    "for_plot"
   ]
  },
  {
   "cell_type": "markdown",
   "metadata": {},
   "source": [
    "#### Is there any correlation between dropout rate and %contribution of each sector (Primary, Secondary and Tertiary) to the total GDP?"
   ]
  },
  {
   "cell_type": "code",
   "execution_count": 91,
   "metadata": {},
   "outputs": [],
   "source": [
    "# We need to merge another dataframe which contains info about the  %contribution of 3 sectors\n",
    "\n",
    "percentmerge = pd.merge(drop_merge,sector_df,how = 'left',left_on = drop_merge.index,right_on = sector_df.index)"
   ]
  },
  {
   "cell_type": "code",
   "execution_count": 92,
   "metadata": {},
   "outputs": [],
   "source": [
    "percentmerge.index = percentmerge['key_0']\n",
    "del percentmerge['key_0']\n"
   ]
  },
  {
   "cell_type": "code",
   "execution_count": 93,
   "metadata": {},
   "outputs": [],
   "source": [
    "# filtering of columns we require\n",
    "sector_corr = percentmerge[['Primary - 2014-2015','Upper Primary - 2014-2015' ,'Secondary - 2014-2015','Primary_%','Secondary_%','Tertiary_%']]"
   ]
  },
  {
   "cell_type": "code",
   "execution_count": 94,
   "metadata": {},
   "outputs": [],
   "source": [
    "# change from object to float\n",
    "sector_corr['Secondary_%'] = sector_corr['Secondary_%'].astype(float)\n",
    "sector_corr['Tertiary_%'] = sector_corr['Tertiary_%'].astype(float)"
   ]
  },
  {
   "cell_type": "markdown",
   "metadata": {},
   "source": [
    "#### Creating a corelation matrix and stripping it to only that is required"
   ]
  },
  {
   "cell_type": "code",
   "execution_count": 95,
   "metadata": {},
   "outputs": [],
   "source": [
    "sectormat = sector_corr.corr()\n",
    "sectormat = sectormat.iloc[3:,:-3]\n",
    "sectormat.index = sectormat.index.str.rstrip('_%')+' Sector'\n",
    "sectormat.columns = sectormat.columns.str.rstrip('- 2014-2015') + ' Drop Out Rate'"
   ]
  },
  {
   "cell_type": "code",
   "execution_count": 96,
   "metadata": {},
   "outputs": [
    {
     "data": {
      "text/html": [
       "<div>\n",
       "<style scoped>\n",
       "    .dataframe tbody tr th:only-of-type {\n",
       "        vertical-align: middle;\n",
       "    }\n",
       "\n",
       "    .dataframe tbody tr th {\n",
       "        vertical-align: top;\n",
       "    }\n",
       "\n",
       "    .dataframe thead th {\n",
       "        text-align: right;\n",
       "    }\n",
       "</style>\n",
       "<table border=\"1\" class=\"dataframe\">\n",
       "  <thead>\n",
       "    <tr style=\"text-align: right;\">\n",
       "      <th></th>\n",
       "      <th>Primary Drop Out Rate</th>\n",
       "      <th>Upper Primary Drop Out Rate</th>\n",
       "      <th>Secondary Drop Out Rate</th>\n",
       "    </tr>\n",
       "  </thead>\n",
       "  <tbody>\n",
       "    <tr>\n",
       "      <th>Primary Sector</th>\n",
       "      <td>0.436410</td>\n",
       "      <td>0.569206</td>\n",
       "      <td>0.375486</td>\n",
       "    </tr>\n",
       "    <tr>\n",
       "      <th>Secondary Sector</th>\n",
       "      <td>-0.443621</td>\n",
       "      <td>-0.392147</td>\n",
       "      <td>-0.271534</td>\n",
       "    </tr>\n",
       "    <tr>\n",
       "      <th>Tertiary Sector</th>\n",
       "      <td>0.254543</td>\n",
       "      <td>-0.046101</td>\n",
       "      <td>0.009414</td>\n",
       "    </tr>\n",
       "  </tbody>\n",
       "</table>\n",
       "</div>"
      ],
      "text/plain": [
       "                  Primary Drop Out Rate  Upper Primary Drop Out Rate  \\\n",
       "Primary Sector                 0.436410                     0.569206   \n",
       "Secondary Sector              -0.443621                    -0.392147   \n",
       "Tertiary Sector                0.254543                    -0.046101   \n",
       "\n",
       "                  Secondary Drop Out Rate  \n",
       "Primary Sector                   0.375486  \n",
       "Secondary Sector                -0.271534  \n",
       "Tertiary Sector                  0.009414  "
      ]
     },
     "execution_count": 96,
     "metadata": {},
     "output_type": "execute_result"
    }
   ],
   "source": [
    "sectormat"
   ]
  },
  {
   "cell_type": "markdown",
   "metadata": {},
   "source": [
    "### HEATMAP REPRESENTING correlation between dropout rate and %contribution of each sector (Primary, Secondary and Tertiary) to the total GDP"
   ]
  },
  {
   "cell_type": "code",
   "execution_count": 97,
   "metadata": {},
   "outputs": [
    {
     "data": {
      "text/plain": [
       "Text(0.5, 1, 'HEATMAP REPRESENTING correlation between dropout rate and %contribution of each sector (Primary, Secondary and Tertiary) to the total GDP')"
      ]
     },
     "execution_count": 97,
     "metadata": {},
     "output_type": "execute_result"
    },
    {
     "data": {
      "image/png": "[encoded data removed]",
      "text/plain": [
       "<Figure size 720x576 with 2 Axes>"
      ]
     },
     "metadata": {
      "needs_background": "light"
     },
     "output_type": "display_data"
    }
   ],
   "source": [
    "\n",
    "plt.figure(figsize=(10,8))\n",
    "sns.heatmap(sectormat, cmap=\"YlGnBu\", annot=True)\n",
    "plt.title('HEATMAP REPRESENTING correlation between dropout rate and %contribution of each sector (Primary, Secondary and Tertiary) to the total GDP')"
   ]
  },
  {
   "cell_type": "code",
   "execution_count": 98,
   "metadata": {},
   "outputs": [
    {
     "data": {
      "text/html": [
       "<div>\n",
       "<style scoped>\n",
       "    .dataframe tbody tr th:only-of-type {\n",
       "        vertical-align: middle;\n",
       "    }\n",
       "\n",
       "    .dataframe tbody tr th {\n",
       "        vertical-align: top;\n",
       "    }\n",
       "\n",
       "    .dataframe thead th {\n",
       "        text-align: right;\n",
       "    }\n",
       "</style>\n",
       "<table border=\"1\" class=\"dataframe\">\n",
       "  <thead>\n",
       "    <tr style=\"text-align: right;\">\n",
       "      <th></th>\n",
       "      <th>Primary - 2014-2015</th>\n",
       "      <th>Upper Primary - 2014-2015</th>\n",
       "      <th>Secondary - 2014-2015</th>\n",
       "      <th>Population ('00)</th>\n",
       "    </tr>\n",
       "    <tr>\n",
       "      <th>key_0</th>\n",
       "      <th></th>\n",
       "      <th></th>\n",
       "      <th></th>\n",
       "      <th></th>\n",
       "    </tr>\n",
       "  </thead>\n",
       "  <tbody>\n",
       "    <tr>\n",
       "      <th>Goa</th>\n",
       "      <td>0.73</td>\n",
       "      <td>0.07</td>\n",
       "      <td>11.15</td>\n",
       "      <td>14950.0</td>\n",
       "    </tr>\n",
       "    <tr>\n",
       "      <th>Sikkim</th>\n",
       "      <td>2.27</td>\n",
       "      <td>1.57</td>\n",
       "      <td>15.89</td>\n",
       "      <td>6330.0</td>\n",
       "    </tr>\n",
       "    <tr>\n",
       "      <th>Haryana</th>\n",
       "      <td>5.61</td>\n",
       "      <td>5.81</td>\n",
       "      <td>15.89</td>\n",
       "      <td>266620.0</td>\n",
       "    </tr>\n",
       "    <tr>\n",
       "      <th>Kerala</th>\n",
       "      <td>NaN</td>\n",
       "      <td>NaN</td>\n",
       "      <td>12.32</td>\n",
       "      <td>339843.0</td>\n",
       "    </tr>\n",
       "    <tr>\n",
       "      <th>Uttarakhand</th>\n",
       "      <td>4.04</td>\n",
       "      <td>1.19</td>\n",
       "      <td>10.40</td>\n",
       "      <td>105820.0</td>\n",
       "    </tr>\n",
       "  </tbody>\n",
       "</table>\n",
       "</div>"
      ],
      "text/plain": [
       "             Primary - 2014-2015  Upper Primary - 2014-2015  \\\n",
       "key_0                                                         \n",
       "Goa                         0.73                       0.07   \n",
       "Sikkim                      2.27                       1.57   \n",
       "Haryana                     5.61                       5.81   \n",
       "Kerala                       NaN                        NaN   \n",
       "Uttarakhand                 4.04                       1.19   \n",
       "\n",
       "             Secondary - 2014-2015  Population ('00)  \n",
       "key_0                                                 \n",
       "Goa                          11.15           14950.0  \n",
       "Sikkim                       15.89            6330.0  \n",
       "Haryana                      15.89          266620.0  \n",
       "Kerala                       12.32          339843.0  \n",
       "Uttarakhand                  10.40          105820.0  "
      ]
     },
     "execution_count": 98,
     "metadata": {},
     "output_type": "execute_result"
    }
   ],
   "source": [
    "# Adding population data to our dataframe \n",
    "\n",
    "temp_2 = allstates[\"Population ('00)\"]\n",
    "pop_co_df = pd.merge(drop_merge,temp_2,how = 'inner',left_on = drop_merge.index,right_on = temp_2.index)\n",
    "pop_co_df.index = pop_co_df['key_0'] #changing the index of the dataframe\n",
    "del pop_co_df['key_0']\n",
    "del pop_co_df['Per Capita GSDP (Rs.)']\n",
    "pop_co_df[\"Population ('00)\"] = pop_co_df[\"Population ('00)\"].astype(float)\n",
    "pop_co_df.head()"
   ]
  },
  {
   "cell_type": "markdown",
   "metadata": {},
   "source": [
    "### Correlation between dropout rates and population"
   ]
  },
  {
   "cell_type": "code",
   "execution_count": 99,
   "metadata": {},
   "outputs": [],
   "source": [
    "pop_corr = pop_co_df.corr()\n",
    "pop_corr = pop_corr.loc[[\"Population ('00)\"]]\n",
    "del pop_corr[\"Population ('00)\"]\n",
    "pop_corr.columns = pop_corr.columns.str.rstrip('- 2014-2015') + ' Drop Out Rate'"
   ]
  },
  {
   "cell_type": "code",
   "execution_count": 100,
   "metadata": {},
   "outputs": [
    {
     "data": {
      "text/html": [
       "<div>\n",
       "<style scoped>\n",
       "    .dataframe tbody tr th:only-of-type {\n",
       "        vertical-align: middle;\n",
       "    }\n",
       "\n",
       "    .dataframe tbody tr th {\n",
       "        vertical-align: top;\n",
       "    }\n",
       "\n",
       "    .dataframe thead th {\n",
       "        text-align: right;\n",
       "    }\n",
       "</style>\n",
       "<table border=\"1\" class=\"dataframe\">\n",
       "  <thead>\n",
       "    <tr style=\"text-align: right;\">\n",
       "      <th></th>\n",
       "      <th>Primary Drop Out Rate</th>\n",
       "      <th>Upper Primary Drop Out Rate</th>\n",
       "      <th>Secondary Drop Out Rate</th>\n",
       "    </tr>\n",
       "  </thead>\n",
       "  <tbody>\n",
       "    <tr>\n",
       "      <th>Population ('00)</th>\n",
       "      <td>-0.000191</td>\n",
       "      <td>-0.0498</td>\n",
       "      <td>-0.058377</td>\n",
       "    </tr>\n",
       "  </tbody>\n",
       "</table>\n",
       "</div>"
      ],
      "text/plain": [
       "                  Primary Drop Out Rate  Upper Primary Drop Out Rate  \\\n",
       "Population ('00)              -0.000191                      -0.0498   \n",
       "\n",
       "                  Secondary Drop Out Rate  \n",
       "Population ('00)                -0.058377  "
      ]
     },
     "execution_count": 100,
     "metadata": {},
     "output_type": "execute_result"
    }
   ],
   "source": [
    "pop_corr"
   ]
  },
  {
   "cell_type": "markdown",
   "metadata": {},
   "source": [
    "##### *The expected trend is as population increases ,drop out rate increases (as population is negatively co related with literecy rate) . But here there is very weak negative co-relation between them*"
   ]
  },
  {
   "cell_type": "markdown",
   "metadata": {},
   "source": [
    "### Write down the key insights you draw from this data:\n",
    "#### Form at least one reasonable hypothesis for the observations from the data\n",
    "\n",
    " "
   ]
  },
  {
   "cell_type": "markdown",
   "metadata": {},
   "source": [
    "#### 1) Real estate and professional services play a key role in sectors where per capita Gdp is high.\n",
    "#### 2) Clearly there is negative co-relation between Per Capita Gsdp and Drop out rates.So we can infer that as Per Capita Income is directly co related with Gsdp , as Per capita Income increases the drop out rates tend to fall down\n",
    "#### 3) As we can see in the heatmap that there is high positive co relation between drop out rates OF all levels of education and primary sector.WITH THIS WE CAN INFER THAT most of the people who drop out tend to work in the primary sector.\n",
    "#### 4) Most of the  occupations in the Secondary sector require education "
   ]
  },
  {
   "cell_type": "markdown",
   "metadata": {},
   "source": [
    "## * HYPOTHESIS : We know that Tertiary Sector is a major contributor in total Gsdp for most of the states. But for most of the top 5 states with highest per capita like goa , kerala, etc. the secondary sector is very active.\n",
    "## * Thus we can hypothesize that by controlling Drop out rates of all levels of education, more skill labor is produced who get employed in skilled roles pertaining to secondary sector which intern increases the Per capita Gdp leading to overall economic growth of the state"
   ]
  },
  {
   "cell_type": "code",
   "execution_count": null,
   "metadata": {},
   "outputs": [],
   "source": []
  }
 ],
 "metadata": {
  "kernelspec": {
   "display_name": "Python 3",
   "language": "python",
   "name": "python3"
  },
  "language_info": {
   "codemirror_mode": {
    "name": "ipython",
    "version": 3
   },
   "file_extension": ".py",
   "mimetype": "text/x-python",
   "name": "python",
   "nbconvert_exporter": "python",
   "pygments_lexer": "ipython3",
   "version": "3.7.3"
  }
 },
 "nbformat": 4,
 "nbformat_minor": 2
}
